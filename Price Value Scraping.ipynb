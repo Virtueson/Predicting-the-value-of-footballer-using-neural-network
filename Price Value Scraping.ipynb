{
 "cells": [
  {
   "cell_type": "code",
   "execution_count": 25,
   "id": "3e6b0c29",
   "metadata": {},
   "outputs": [],
   "source": [
    "import requests\n",
    "from bs4 import BeautifulSoup\n",
    "import pandas as pd\n",
    "import re"
   ]
  },
  {
   "cell_type": "markdown",
   "id": "688639d5",
   "metadata": {},
   "source": [
    "# Find the team link using fuction (done)"
   ]
  },
  {
   "cell_type": "code",
   "execution_count": 26,
   "id": "b3170a78",
   "metadata": {},
   "outputs": [],
   "source": [
    "compe_link = [\"https://www.transfermarkt.com/premier-league/startseite/wettbewerb/GB1\",\n",
    "             \"https://www.transfermarkt.com/primera-division/startseite/wettbewerb/ES1\",\n",
    "             \"https://www.transfermarkt.com/bundesliga/startseite/wettbewerb/L1\",\n",
    "             \"https://www.transfermarkt.com/serie-a/startseite/wettbewerb/IT1\",\n",
    "             \"https://www.transfermarkt.com/ligue-1/startseite/wettbewerb/FR1\",\n",
    "             \"https://www.transfermarkt.com/eredivisie/startseite/wettbewerb/NL1\"\n",
    "             ]"
   ]
  },
  {
   "cell_type": "code",
   "execution_count": 3,
   "id": "95d49023",
   "metadata": {},
   "outputs": [],
   "source": [
    "def page_retriever(link):\n",
    "    headers = {'User-Agent': 'Mozilla/5.0 (X11; Linux x86_64) AppleWebkit/537.36 (KHTML, like Gecko) Chrome/47.0.2526.106 Safari/537.36'}\n",
    "    pageTree = requests.get(link, headers = headers)\n",
    "    pageSoup_func = BeautifulSoup(pageTree.content, 'html.parser')\n",
    "    \n",
    "    return pageSoup_func"
   ]
  },
  {
   "cell_type": "code",
   "execution_count": 28,
   "id": "ac431d15",
   "metadata": {},
   "outputs": [],
   "source": [
    "team_link = []\n",
    "def team_link_retriever(compe_link_func):\n",
    "    pageSoup = page_retriever(compe_link_func)\n",
    "    team_table = pageSoup.find(\"table\", {\"class\": \"items\"})\n",
    "    team_link_total = team_table.find_all(\"td\", {\"class\": \"hauptlink no-border-links\"})\n",
    "    \n",
    "    global team_link\n",
    "    for team in team_link_total:\n",
    "        team_link.append(\"https://www.transfermarkt.com\"+team.a['href'])\n",
    "    "
   ]
  },
  {
   "cell_type": "code",
   "execution_count": 29,
   "id": "727d11d3",
   "metadata": {},
   "outputs": [],
   "source": [
    "for compe in compe_link:\n",
    "    team_link_retriever(compe)"
   ]
  },
  {
   "cell_type": "code",
   "execution_count": 30,
   "id": "153cd22c",
   "metadata": {},
   "outputs": [
    {
     "data": {
      "text/plain": [
       "['https://www.transfermarkt.com/manchester-city/startseite/verein/281/saison_id/2023',\n",
       " 'https://www.transfermarkt.com/fc-arsenal/startseite/verein/11/saison_id/2023',\n",
       " 'https://www.transfermarkt.com/fc-chelsea/startseite/verein/631/saison_id/2023',\n",
       " 'https://www.transfermarkt.com/fc-liverpool/startseite/verein/31/saison_id/2023',\n",
       " 'https://www.transfermarkt.com/tottenham-hotspur/startseite/verein/148/saison_id/2023',\n",
       " 'https://www.transfermarkt.com/manchester-united/startseite/verein/985/saison_id/2023',\n",
       " 'https://www.transfermarkt.com/newcastle-united/startseite/verein/762/saison_id/2023',\n",
       " 'https://www.transfermarkt.com/aston-villa/startseite/verein/405/saison_id/2023',\n",
       " 'https://www.transfermarkt.com/brighton-amp-hove-albion/startseite/verein/1237/saison_id/2023',\n",
       " 'https://www.transfermarkt.com/west-ham-united/startseite/verein/379/saison_id/2023',\n",
       " 'https://www.transfermarkt.com/fc-brentford/startseite/verein/1148/saison_id/2023',\n",
       " 'https://www.transfermarkt.com/crystal-palace/startseite/verein/873/saison_id/2023',\n",
       " 'https://www.transfermarkt.com/nottingham-forest/startseite/verein/703/saison_id/2023',\n",
       " 'https://www.transfermarkt.com/afc-bournemouth/startseite/verein/989/saison_id/2023',\n",
       " 'https://www.transfermarkt.com/fc-everton/startseite/verein/29/saison_id/2023',\n",
       " 'https://www.transfermarkt.com/fc-fulham/startseite/verein/931/saison_id/2023',\n",
       " 'https://www.transfermarkt.com/wolverhampton-wanderers/startseite/verein/543/saison_id/2023',\n",
       " 'https://www.transfermarkt.com/fc-burnley/startseite/verein/1132/saison_id/2023',\n",
       " 'https://www.transfermarkt.com/sheffield-united/startseite/verein/350/saison_id/2023',\n",
       " 'https://www.transfermarkt.com/luton-town/startseite/verein/1031/saison_id/2023',\n",
       " 'https://www.transfermarkt.com/real-madrid/startseite/verein/418/saison_id/2023',\n",
       " 'https://www.transfermarkt.com/fc-barcelona/startseite/verein/131/saison_id/2023',\n",
       " 'https://www.transfermarkt.com/real-sociedad-san-sebastian/startseite/verein/681/saison_id/2023',\n",
       " 'https://www.transfermarkt.com/atletico-madrid/startseite/verein/13/saison_id/2023',\n",
       " 'https://www.transfermarkt.com/athletic-bilbao/startseite/verein/621/saison_id/2023',\n",
       " 'https://www.transfermarkt.com/fc-girona/startseite/verein/12321/saison_id/2023',\n",
       " 'https://www.transfermarkt.com/fc-villarreal/startseite/verein/1050/saison_id/2023',\n",
       " 'https://www.transfermarkt.com/real-betis-sevilla/startseite/verein/150/saison_id/2023',\n",
       " 'https://www.transfermarkt.com/fc-valencia/startseite/verein/1049/saison_id/2023',\n",
       " 'https://www.transfermarkt.com/fc-sevilla/startseite/verein/368/saison_id/2023',\n",
       " 'https://www.transfermarkt.com/celta-vigo/startseite/verein/940/saison_id/2023',\n",
       " 'https://www.transfermarkt.com/ca-osasuna/startseite/verein/331/saison_id/2023',\n",
       " 'https://www.transfermarkt.com/rcd-mallorca/startseite/verein/237/saison_id/2023',\n",
       " 'https://www.transfermarkt.com/fc-getafe/startseite/verein/3709/saison_id/2023',\n",
       " 'https://www.transfermarkt.com/fc-granada/startseite/verein/16795/saison_id/2023',\n",
       " 'https://www.transfermarkt.com/ud-almeria/startseite/verein/3302/saison_id/2023',\n",
       " 'https://www.transfermarkt.com/rayo-vallecano/startseite/verein/367/saison_id/2023',\n",
       " 'https://www.transfermarkt.com/ud-las-palmas/startseite/verein/472/saison_id/2023',\n",
       " 'https://www.transfermarkt.com/deportivo-alaves/startseite/verein/1108/saison_id/2023',\n",
       " 'https://www.transfermarkt.com/fc-cadiz/startseite/verein/2687/saison_id/2023',\n",
       " 'https://www.transfermarkt.com/fc-bayern-munchen/startseite/verein/27/saison_id/2023',\n",
       " 'https://www.transfermarkt.com/bayer-04-leverkusen/startseite/verein/15/saison_id/2023',\n",
       " 'https://www.transfermarkt.com/rasenballsport-leipzig/startseite/verein/23826/saison_id/2023',\n",
       " 'https://www.transfermarkt.com/borussia-dortmund/startseite/verein/16/saison_id/2023',\n",
       " 'https://www.transfermarkt.com/vfl-wolfsburg/startseite/verein/82/saison_id/2023',\n",
       " 'https://www.transfermarkt.com/vfb-stuttgart/startseite/verein/79/saison_id/2023',\n",
       " 'https://www.transfermarkt.com/eintracht-frankfurt/startseite/verein/24/saison_id/2023',\n",
       " 'https://www.transfermarkt.com/borussia-monchengladbach/startseite/verein/18/saison_id/2023',\n",
       " 'https://www.transfermarkt.com/sc-freiburg/startseite/verein/60/saison_id/2023',\n",
       " 'https://www.transfermarkt.com/1-fc-union-berlin/startseite/verein/89/saison_id/2023',\n",
       " 'https://www.transfermarkt.com/tsg-1899-hoffenheim/startseite/verein/533/saison_id/2023',\n",
       " 'https://www.transfermarkt.com/fc-augsburg/startseite/verein/167/saison_id/2023',\n",
       " 'https://www.transfermarkt.com/1-fsv-mainz-05/startseite/verein/39/saison_id/2023',\n",
       " 'https://www.transfermarkt.com/sv-werder-bremen/startseite/verein/86/saison_id/2023',\n",
       " 'https://www.transfermarkt.com/1-fc-koln/startseite/verein/3/saison_id/2023',\n",
       " 'https://www.transfermarkt.com/vfl-bochum/startseite/verein/80/saison_id/2023',\n",
       " 'https://www.transfermarkt.com/1-fc-heidenheim-1846/startseite/verein/2036/saison_id/2023',\n",
       " 'https://www.transfermarkt.com/sv-darmstadt-98/startseite/verein/105/saison_id/2023',\n",
       " 'https://www.transfermarkt.com/inter-mailand/startseite/verein/46/saison_id/2023',\n",
       " 'https://www.transfermarkt.com/ssc-neapel/startseite/verein/6195/saison_id/2023',\n",
       " 'https://www.transfermarkt.com/ac-mailand/startseite/verein/5/saison_id/2023',\n",
       " 'https://www.transfermarkt.com/juventus-turin/startseite/verein/506/saison_id/2023',\n",
       " 'https://www.transfermarkt.com/as-rom/startseite/verein/12/saison_id/2023',\n",
       " 'https://www.transfermarkt.com/atalanta-bergamo/startseite/verein/800/saison_id/2023',\n",
       " 'https://www.transfermarkt.com/ac-florenz/startseite/verein/430/saison_id/2023',\n",
       " 'https://www.transfermarkt.com/lazio-rom/startseite/verein/398/saison_id/2023',\n",
       " 'https://www.transfermarkt.com/fc-bologna/startseite/verein/1025/saison_id/2023',\n",
       " 'https://www.transfermarkt.com/fc-turin/startseite/verein/416/saison_id/2023',\n",
       " 'https://www.transfermarkt.com/us-sassuolo/startseite/verein/6574/saison_id/2023',\n",
       " 'https://www.transfermarkt.com/udinese-calcio/startseite/verein/410/saison_id/2023',\n",
       " 'https://www.transfermarkt.com/genua-cfc/startseite/verein/252/saison_id/2023',\n",
       " 'https://www.transfermarkt.com/ac-monza/startseite/verein/2919/saison_id/2023',\n",
       " 'https://www.transfermarkt.com/frosinone-calcio/startseite/verein/8970/saison_id/2023',\n",
       " 'https://www.transfermarkt.com/us-salernitana-1919/startseite/verein/380/saison_id/2023',\n",
       " 'https://www.transfermarkt.com/cagliari-calcio/startseite/verein/1390/saison_id/2023',\n",
       " 'https://www.transfermarkt.com/us-lecce/startseite/verein/1005/saison_id/2023',\n",
       " 'https://www.transfermarkt.com/fc-empoli/startseite/verein/749/saison_id/2023',\n",
       " 'https://www.transfermarkt.com/hellas-verona/startseite/verein/276/saison_id/2023',\n",
       " 'https://www.transfermarkt.com/fc-paris-saint-germain/startseite/verein/583/saison_id/2023',\n",
       " 'https://www.transfermarkt.com/as-monaco/startseite/verein/162/saison_id/2023',\n",
       " 'https://www.transfermarkt.com/ogc-nizza/startseite/verein/417/saison_id/2023',\n",
       " 'https://www.transfermarkt.com/fc-stade-rennes/startseite/verein/273/saison_id/2023',\n",
       " 'https://www.transfermarkt.com/olympique-marseille/startseite/verein/244/saison_id/2023',\n",
       " 'https://www.transfermarkt.com/olympique-lyon/startseite/verein/1041/saison_id/2023',\n",
       " 'https://www.transfermarkt.com/losc-lille/startseite/verein/1082/saison_id/2023',\n",
       " 'https://www.transfermarkt.com/rc-lens/startseite/verein/826/saison_id/2023',\n",
       " 'https://www.transfermarkt.com/rc-strassburg-alsace/startseite/verein/667/saison_id/2023',\n",
       " 'https://www.transfermarkt.com/stade-reims/startseite/verein/1421/saison_id/2023',\n",
       " 'https://www.transfermarkt.com/fc-lorient/startseite/verein/1158/saison_id/2023',\n",
       " 'https://www.transfermarkt.com/montpellier-hsc/startseite/verein/969/saison_id/2023',\n",
       " 'https://www.transfermarkt.com/fc-nantes/startseite/verein/995/saison_id/2023',\n",
       " 'https://www.transfermarkt.com/fc-toulouse/startseite/verein/415/saison_id/2023',\n",
       " 'https://www.transfermarkt.com/stade-brest-29/startseite/verein/3911/saison_id/2023',\n",
       " 'https://www.transfermarkt.com/ac-le-havre/startseite/verein/738/saison_id/2023',\n",
       " 'https://www.transfermarkt.com/clermont-foot-63/startseite/verein/3524/saison_id/2023',\n",
       " 'https://www.transfermarkt.com/fc-metz/startseite/verein/347/saison_id/2023',\n",
       " 'https://www.transfermarkt.com/feyenoord-rotterdam/startseite/verein/234/saison_id/2023',\n",
       " 'https://www.transfermarkt.com/psv-eindhoven/startseite/verein/383/saison_id/2023',\n",
       " 'https://www.transfermarkt.com/ajax-amsterdam/startseite/verein/610/saison_id/2023',\n",
       " 'https://www.transfermarkt.com/az-alkmaar/startseite/verein/1090/saison_id/2023',\n",
       " 'https://www.transfermarkt.com/fc-twente-enschede/startseite/verein/317/saison_id/2023',\n",
       " 'https://www.transfermarkt.com/fc-utrecht/startseite/verein/200/saison_id/2023',\n",
       " 'https://www.transfermarkt.com/sc-heerenveen/startseite/verein/306/saison_id/2023',\n",
       " 'https://www.transfermarkt.com/sparta-rotterdam/startseite/verein/468/saison_id/2023',\n",
       " 'https://www.transfermarkt.com/vitesse-arnheim/startseite/verein/499/saison_id/2023',\n",
       " 'https://www.transfermarkt.com/nec-nijmegen/startseite/verein/467/saison_id/2023',\n",
       " 'https://www.transfermarkt.com/sbv-excelsior-rotterdam/startseite/verein/798/saison_id/2023',\n",
       " 'https://www.transfermarkt.com/fortuna-sittard/startseite/verein/385/saison_id/2023',\n",
       " 'https://www.transfermarkt.com/pec-zwolle/startseite/verein/1269/saison_id/2023',\n",
       " 'https://www.transfermarkt.com/go-ahead-eagles-deventer/startseite/verein/1435/saison_id/2023',\n",
       " 'https://www.transfermarkt.com/heracles-almelo/startseite/verein/1304/saison_id/2023',\n",
       " 'https://www.transfermarkt.com/almere-city-fc/startseite/verein/723/saison_id/2023',\n",
       " 'https://www.transfermarkt.com/rkc-waalwijk/startseite/verein/235/saison_id/2023',\n",
       " 'https://www.transfermarkt.com/fc-volendam/startseite/verein/724/saison_id/2023']"
      ]
     },
     "execution_count": 30,
     "metadata": {},
     "output_type": "execute_result"
    }
   ],
   "source": [
    "team_link"
   ]
  },
  {
   "cell_type": "code",
   "execution_count": 31,
   "id": "90fe4c56",
   "metadata": {},
   "outputs": [],
   "source": [
    "team_link_2023 = team_link\n",
    "team_link_2022 = [url.replace('2023', '2022') for url in team_link]\n",
    "team_link_2021 = [url.replace('2023', '2021') for url in team_link]\n",
    "team_link_2020 = [url.replace('2023', '2020') for url in team_link]\n",
    "team_link_2019 = [url.replace('2023', '2019') for url in team_link]\n",
    "team_link_2018 = [url.replace('2023', '2018') for url in team_link]"
   ]
  },
  {
   "cell_type": "code",
   "execution_count": 32,
   "id": "6259834f",
   "metadata": {},
   "outputs": [
    {
     "data": {
      "text/plain": [
       "['https://www.transfermarkt.com/manchester-city/startseite/verein/281/saison_id/2019',\n",
       " 'https://www.transfermarkt.com/fc-arsenal/startseite/verein/11/saison_id/2019',\n",
       " 'https://www.transfermarkt.com/fc-chelsea/startseite/verein/631/saison_id/2019',\n",
       " 'https://www.transfermarkt.com/fc-liverpool/startseite/verein/31/saison_id/2019',\n",
       " 'https://www.transfermarkt.com/tottenham-hotspur/startseite/verein/148/saison_id/2019',\n",
       " 'https://www.transfermarkt.com/manchester-united/startseite/verein/985/saison_id/2019',\n",
       " 'https://www.transfermarkt.com/newcastle-united/startseite/verein/762/saison_id/2019',\n",
       " 'https://www.transfermarkt.com/aston-villa/startseite/verein/405/saison_id/2019',\n",
       " 'https://www.transfermarkt.com/brighton-amp-hove-albion/startseite/verein/1237/saison_id/2019',\n",
       " 'https://www.transfermarkt.com/west-ham-united/startseite/verein/379/saison_id/2019',\n",
       " 'https://www.transfermarkt.com/fc-brentford/startseite/verein/1148/saison_id/2019',\n",
       " 'https://www.transfermarkt.com/crystal-palace/startseite/verein/873/saison_id/2019',\n",
       " 'https://www.transfermarkt.com/nottingham-forest/startseite/verein/703/saison_id/2019',\n",
       " 'https://www.transfermarkt.com/afc-bournemouth/startseite/verein/989/saison_id/2019',\n",
       " 'https://www.transfermarkt.com/fc-everton/startseite/verein/29/saison_id/2019',\n",
       " 'https://www.transfermarkt.com/fc-fulham/startseite/verein/931/saison_id/2019',\n",
       " 'https://www.transfermarkt.com/wolverhampton-wanderers/startseite/verein/543/saison_id/2019',\n",
       " 'https://www.transfermarkt.com/fc-burnley/startseite/verein/1132/saison_id/2019',\n",
       " 'https://www.transfermarkt.com/sheffield-united/startseite/verein/350/saison_id/2019',\n",
       " 'https://www.transfermarkt.com/luton-town/startseite/verein/1031/saison_id/2019',\n",
       " 'https://www.transfermarkt.com/real-madrid/startseite/verein/418/saison_id/2019',\n",
       " 'https://www.transfermarkt.com/fc-barcelona/startseite/verein/131/saison_id/2019',\n",
       " 'https://www.transfermarkt.com/real-sociedad-san-sebastian/startseite/verein/681/saison_id/2019',\n",
       " 'https://www.transfermarkt.com/atletico-madrid/startseite/verein/13/saison_id/2019',\n",
       " 'https://www.transfermarkt.com/athletic-bilbao/startseite/verein/621/saison_id/2019',\n",
       " 'https://www.transfermarkt.com/fc-girona/startseite/verein/12321/saison_id/2019',\n",
       " 'https://www.transfermarkt.com/fc-villarreal/startseite/verein/1050/saison_id/2019',\n",
       " 'https://www.transfermarkt.com/real-betis-sevilla/startseite/verein/150/saison_id/2019',\n",
       " 'https://www.transfermarkt.com/fc-valencia/startseite/verein/1049/saison_id/2019',\n",
       " 'https://www.transfermarkt.com/fc-sevilla/startseite/verein/368/saison_id/2019',\n",
       " 'https://www.transfermarkt.com/celta-vigo/startseite/verein/940/saison_id/2019',\n",
       " 'https://www.transfermarkt.com/ca-osasuna/startseite/verein/331/saison_id/2019',\n",
       " 'https://www.transfermarkt.com/rcd-mallorca/startseite/verein/237/saison_id/2019',\n",
       " 'https://www.transfermarkt.com/fc-getafe/startseite/verein/3709/saison_id/2019',\n",
       " 'https://www.transfermarkt.com/fc-granada/startseite/verein/16795/saison_id/2019',\n",
       " 'https://www.transfermarkt.com/ud-almeria/startseite/verein/3302/saison_id/2019',\n",
       " 'https://www.transfermarkt.com/rayo-vallecano/startseite/verein/367/saison_id/2019',\n",
       " 'https://www.transfermarkt.com/ud-las-palmas/startseite/verein/472/saison_id/2019',\n",
       " 'https://www.transfermarkt.com/deportivo-alaves/startseite/verein/1108/saison_id/2019',\n",
       " 'https://www.transfermarkt.com/fc-cadiz/startseite/verein/2687/saison_id/2019',\n",
       " 'https://www.transfermarkt.com/fc-bayern-munchen/startseite/verein/27/saison_id/2019',\n",
       " 'https://www.transfermarkt.com/bayer-04-leverkusen/startseite/verein/15/saison_id/2019',\n",
       " 'https://www.transfermarkt.com/rasenballsport-leipzig/startseite/verein/23826/saison_id/2019',\n",
       " 'https://www.transfermarkt.com/borussia-dortmund/startseite/verein/16/saison_id/2019',\n",
       " 'https://www.transfermarkt.com/vfl-wolfsburg/startseite/verein/82/saison_id/2019',\n",
       " 'https://www.transfermarkt.com/vfb-stuttgart/startseite/verein/79/saison_id/2019',\n",
       " 'https://www.transfermarkt.com/eintracht-frankfurt/startseite/verein/24/saison_id/2019',\n",
       " 'https://www.transfermarkt.com/borussia-monchengladbach/startseite/verein/18/saison_id/2019',\n",
       " 'https://www.transfermarkt.com/sc-freiburg/startseite/verein/60/saison_id/2019',\n",
       " 'https://www.transfermarkt.com/1-fc-union-berlin/startseite/verein/89/saison_id/2019',\n",
       " 'https://www.transfermarkt.com/tsg-1899-hoffenheim/startseite/verein/533/saison_id/2019',\n",
       " 'https://www.transfermarkt.com/fc-augsburg/startseite/verein/167/saison_id/2019',\n",
       " 'https://www.transfermarkt.com/1-fsv-mainz-05/startseite/verein/39/saison_id/2019',\n",
       " 'https://www.transfermarkt.com/sv-werder-bremen/startseite/verein/86/saison_id/2019',\n",
       " 'https://www.transfermarkt.com/1-fc-koln/startseite/verein/3/saison_id/2019',\n",
       " 'https://www.transfermarkt.com/vfl-bochum/startseite/verein/80/saison_id/2019',\n",
       " 'https://www.transfermarkt.com/1-fc-heidenheim-1846/startseite/verein/2036/saison_id/2019',\n",
       " 'https://www.transfermarkt.com/sv-darmstadt-98/startseite/verein/105/saison_id/2019',\n",
       " 'https://www.transfermarkt.com/inter-mailand/startseite/verein/46/saison_id/2019',\n",
       " 'https://www.transfermarkt.com/ssc-neapel/startseite/verein/6195/saison_id/2019',\n",
       " 'https://www.transfermarkt.com/ac-mailand/startseite/verein/5/saison_id/2019',\n",
       " 'https://www.transfermarkt.com/juventus-turin/startseite/verein/506/saison_id/2019',\n",
       " 'https://www.transfermarkt.com/as-rom/startseite/verein/12/saison_id/2019',\n",
       " 'https://www.transfermarkt.com/atalanta-bergamo/startseite/verein/800/saison_id/2019',\n",
       " 'https://www.transfermarkt.com/ac-florenz/startseite/verein/430/saison_id/2019',\n",
       " 'https://www.transfermarkt.com/lazio-rom/startseite/verein/398/saison_id/2019',\n",
       " 'https://www.transfermarkt.com/fc-bologna/startseite/verein/1025/saison_id/2019',\n",
       " 'https://www.transfermarkt.com/fc-turin/startseite/verein/416/saison_id/2019',\n",
       " 'https://www.transfermarkt.com/us-sassuolo/startseite/verein/6574/saison_id/2019',\n",
       " 'https://www.transfermarkt.com/udinese-calcio/startseite/verein/410/saison_id/2019',\n",
       " 'https://www.transfermarkt.com/genua-cfc/startseite/verein/252/saison_id/2019',\n",
       " 'https://www.transfermarkt.com/ac-monza/startseite/verein/2919/saison_id/2019',\n",
       " 'https://www.transfermarkt.com/frosinone-calcio/startseite/verein/8970/saison_id/2019',\n",
       " 'https://www.transfermarkt.com/us-salernitana-1919/startseite/verein/380/saison_id/2019',\n",
       " 'https://www.transfermarkt.com/cagliari-calcio/startseite/verein/1390/saison_id/2019',\n",
       " 'https://www.transfermarkt.com/us-lecce/startseite/verein/1005/saison_id/2019',\n",
       " 'https://www.transfermarkt.com/fc-empoli/startseite/verein/749/saison_id/2019',\n",
       " 'https://www.transfermarkt.com/hellas-verona/startseite/verein/276/saison_id/2019',\n",
       " 'https://www.transfermarkt.com/fc-paris-saint-germain/startseite/verein/583/saison_id/2019',\n",
       " 'https://www.transfermarkt.com/as-monaco/startseite/verein/162/saison_id/2019',\n",
       " 'https://www.transfermarkt.com/ogc-nizza/startseite/verein/417/saison_id/2019',\n",
       " 'https://www.transfermarkt.com/fc-stade-rennes/startseite/verein/273/saison_id/2019',\n",
       " 'https://www.transfermarkt.com/olympique-marseille/startseite/verein/244/saison_id/2019',\n",
       " 'https://www.transfermarkt.com/olympique-lyon/startseite/verein/1041/saison_id/2019',\n",
       " 'https://www.transfermarkt.com/losc-lille/startseite/verein/1082/saison_id/2019',\n",
       " 'https://www.transfermarkt.com/rc-lens/startseite/verein/826/saison_id/2019',\n",
       " 'https://www.transfermarkt.com/rc-strassburg-alsace/startseite/verein/667/saison_id/2019',\n",
       " 'https://www.transfermarkt.com/stade-reims/startseite/verein/1421/saison_id/2019',\n",
       " 'https://www.transfermarkt.com/fc-lorient/startseite/verein/1158/saison_id/2019',\n",
       " 'https://www.transfermarkt.com/montpellier-hsc/startseite/verein/969/saison_id/2019',\n",
       " 'https://www.transfermarkt.com/fc-nantes/startseite/verein/995/saison_id/2019',\n",
       " 'https://www.transfermarkt.com/fc-toulouse/startseite/verein/415/saison_id/2019',\n",
       " 'https://www.transfermarkt.com/stade-brest-29/startseite/verein/3911/saison_id/2019',\n",
       " 'https://www.transfermarkt.com/ac-le-havre/startseite/verein/738/saison_id/2019',\n",
       " 'https://www.transfermarkt.com/clermont-foot-63/startseite/verein/3524/saison_id/2019',\n",
       " 'https://www.transfermarkt.com/fc-metz/startseite/verein/347/saison_id/2019',\n",
       " 'https://www.transfermarkt.com/feyenoord-rotterdam/startseite/verein/234/saison_id/2019',\n",
       " 'https://www.transfermarkt.com/psv-eindhoven/startseite/verein/383/saison_id/2019',\n",
       " 'https://www.transfermarkt.com/ajax-amsterdam/startseite/verein/610/saison_id/2019',\n",
       " 'https://www.transfermarkt.com/az-alkmaar/startseite/verein/1090/saison_id/2019',\n",
       " 'https://www.transfermarkt.com/fc-twente-enschede/startseite/verein/317/saison_id/2019',\n",
       " 'https://www.transfermarkt.com/fc-utrecht/startseite/verein/200/saison_id/2019',\n",
       " 'https://www.transfermarkt.com/sc-heerenveen/startseite/verein/306/saison_id/2019',\n",
       " 'https://www.transfermarkt.com/sparta-rotterdam/startseite/verein/468/saison_id/2019',\n",
       " 'https://www.transfermarkt.com/vitesse-arnheim/startseite/verein/499/saison_id/2019',\n",
       " 'https://www.transfermarkt.com/nec-nijmegen/startseite/verein/467/saison_id/2019',\n",
       " 'https://www.transfermarkt.com/sbv-excelsior-rotterdam/startseite/verein/798/saison_id/2019',\n",
       " 'https://www.transfermarkt.com/fortuna-sittard/startseite/verein/385/saison_id/2019',\n",
       " 'https://www.transfermarkt.com/pec-zwolle/startseite/verein/1269/saison_id/2019',\n",
       " 'https://www.transfermarkt.com/go-ahead-eagles-deventer/startseite/verein/1435/saison_id/2019',\n",
       " 'https://www.transfermarkt.com/heracles-almelo/startseite/verein/1304/saison_id/2019',\n",
       " 'https://www.transfermarkt.com/almere-city-fc/startseite/verein/723/saison_id/2019',\n",
       " 'https://www.transfermarkt.com/rkc-waalwijk/startseite/verein/235/saison_id/2019',\n",
       " 'https://www.transfermarkt.com/fc-volendam/startseite/verein/724/saison_id/2019']"
      ]
     },
     "execution_count": 32,
     "metadata": {},
     "output_type": "execute_result"
    }
   ],
   "source": [
    "team_link_2019"
   ]
  },
  {
   "cell_type": "markdown",
   "id": "fcb2c643",
   "metadata": {},
   "source": [
    "# Find player name, value, year, and position with function (Done)"
   ]
  },
  {
   "cell_type": "code",
   "execution_count": 33,
   "id": "e2dddae3",
   "metadata": {},
   "outputs": [],
   "source": [
    "def player_value_retriever(team_link_func):\n",
    "    global player_list\n",
    "    global value_list\n",
    "    global year_list\n",
    "    global position_list\n",
    "    year = team_link_func.split(\"/\")[-1].strip()\n",
    "    pageSoup = page_retriever(team_link_func)\n",
    "    team_table = pageSoup.find(\"table\", {\"class\": \"items\"})\n",
    "    player_link_total = team_table.find_all(\"td\", {\"class\": \"hauptlink\"})\n",
    "    \n",
    "    #for position\n",
    "    player_table = team_table.find_all(\"td\",{\"class\": \"posrela\"})\n",
    "    for j in range (0, len(player_table)):\n",
    "        position_list.append(player_table[j].find_all(\"td\")[2].get_text(strip=True))\n",
    "    for i in range ( 0, len(player_link_total)):\n",
    "        if i %2 == 0:\n",
    "            player_list.append(player_link_total[i].get_text(strip = True))\n",
    "            year_list.append(year)\n",
    "        else :\n",
    "            value_list.append(player_link_total[i].get_text(strip = True))"
   ]
  },
  {
   "cell_type": "markdown",
   "id": "7e94c13b",
   "metadata": {},
   "source": [
    "# Web Scraping process"
   ]
  },
  {
   "cell_type": "code",
   "execution_count": 34,
   "id": "9a396837",
   "metadata": {},
   "outputs": [],
   "source": [
    "player_list = []\n",
    "value_list = []\n",
    "year_list = []\n",
    "position_list = []"
   ]
  },
  {
   "cell_type": "code",
   "execution_count": 35,
   "id": "268b34d0",
   "metadata": {},
   "outputs": [],
   "source": [
    "team_season = [team_link_2023,team_link_2022,team_link_2021,team_link_2020,team_link_2019,team_link_2018]\n",
    "# team_season = [team_link_2023]"
   ]
  },
  {
   "cell_type": "code",
   "execution_count": 36,
   "id": "4f9aa9ec",
   "metadata": {},
   "outputs": [],
   "source": [
    "for season in team_season:\n",
    "    for team in season:\n",
    "        player_value_retriever(team)\n",
    "    "
   ]
  },
  {
   "cell_type": "code",
   "execution_count": 37,
   "id": "81f1bf0d",
   "metadata": {},
   "outputs": [
    {
     "data": {
      "text/plain": [
       "True"
      ]
     },
     "execution_count": 37,
     "metadata": {},
     "output_type": "execute_result"
    }
   ],
   "source": [
    "len(player_list)==len(position_list)"
   ]
  },
  {
   "cell_type": "code",
   "execution_count": 38,
   "id": "7def9f5c",
   "metadata": {},
   "outputs": [
    {
     "data": {
      "text/plain": [
       "'2018'"
      ]
     },
     "execution_count": 38,
     "metadata": {},
     "output_type": "execute_result"
    }
   ],
   "source": [
    "year_list[-1]"
   ]
  },
  {
   "cell_type": "code",
   "execution_count": 39,
   "id": "04ee88f2",
   "metadata": {},
   "outputs": [],
   "source": [
    "data = {'Name' : player_list,\n",
    "        'Value' : value_list,\n",
    "        'Year' : year_list, \n",
    "        'Position' : position_list\n",
    "}"
   ]
  },
  {
   "cell_type": "code",
   "execution_count": 40,
   "id": "62a9840c",
   "metadata": {},
   "outputs": [],
   "source": [
    "transfermarkt_df = pd.DataFrame(data)"
   ]
  },
  {
   "cell_type": "code",
   "execution_count": 41,
   "id": "dc95c4d1",
   "metadata": {},
   "outputs": [
    {
     "data": {
      "text/html": [
       "<div>\n",
       "<style scoped>\n",
       "    .dataframe tbody tr th:only-of-type {\n",
       "        vertical-align: middle;\n",
       "    }\n",
       "\n",
       "    .dataframe tbody tr th {\n",
       "        vertical-align: top;\n",
       "    }\n",
       "\n",
       "    .dataframe thead th {\n",
       "        text-align: right;\n",
       "    }\n",
       "</style>\n",
       "<table border=\"1\" class=\"dataframe\">\n",
       "  <thead>\n",
       "    <tr style=\"text-align: right;\">\n",
       "      <th></th>\n",
       "      <th>Name</th>\n",
       "      <th>Value</th>\n",
       "      <th>Year</th>\n",
       "      <th>Position</th>\n",
       "    </tr>\n",
       "  </thead>\n",
       "  <tbody>\n",
       "    <tr>\n",
       "      <th>0</th>\n",
       "      <td>Ederson</td>\n",
       "      <td>€40.00m</td>\n",
       "      <td>2023</td>\n",
       "      <td>Goalkeeper</td>\n",
       "    </tr>\n",
       "    <tr>\n",
       "      <th>1</th>\n",
       "      <td>Stefan Ortega</td>\n",
       "      <td>€9.00m</td>\n",
       "      <td>2023</td>\n",
       "      <td>Goalkeeper</td>\n",
       "    </tr>\n",
       "    <tr>\n",
       "      <th>2</th>\n",
       "      <td>Scott Carson</td>\n",
       "      <td>€200k</td>\n",
       "      <td>2023</td>\n",
       "      <td>Goalkeeper</td>\n",
       "    </tr>\n",
       "    <tr>\n",
       "      <th>3</th>\n",
       "      <td>Rúben Dias</td>\n",
       "      <td>€80.00m</td>\n",
       "      <td>2023</td>\n",
       "      <td>Centre-Back</td>\n",
       "    </tr>\n",
       "    <tr>\n",
       "      <th>4</th>\n",
       "      <td>Josko Gvardiol</td>\n",
       "      <td>€80.00m</td>\n",
       "      <td>2023</td>\n",
       "      <td>Centre-Back</td>\n",
       "    </tr>\n",
       "    <tr>\n",
       "      <th>...</th>\n",
       "      <td>...</td>\n",
       "      <td>...</td>\n",
       "      <td>...</td>\n",
       "      <td>...</td>\n",
       "    </tr>\n",
       "    <tr>\n",
       "      <th>24605</th>\n",
       "      <td>Cas Peters</td>\n",
       "      <td>€400k</td>\n",
       "      <td>2018</td>\n",
       "      <td>Centre-Forward</td>\n",
       "    </tr>\n",
       "    <tr>\n",
       "      <th>24606</th>\n",
       "      <td>Enzo Stroo</td>\n",
       "      <td>€250k</td>\n",
       "      <td>2018</td>\n",
       "      <td>Centre-Forward</td>\n",
       "    </tr>\n",
       "    <tr>\n",
       "      <th>24607</th>\n",
       "      <td>Teije ten Den</td>\n",
       "      <td>€150k</td>\n",
       "      <td>2018</td>\n",
       "      <td>Centre-Forward</td>\n",
       "    </tr>\n",
       "    <tr>\n",
       "      <th>24608</th>\n",
       "      <td>Dani van der Moot</td>\n",
       "      <td>€75k</td>\n",
       "      <td>2018</td>\n",
       "      <td>Centre-Forward</td>\n",
       "    </tr>\n",
       "    <tr>\n",
       "      <th>24609</th>\n",
       "      <td>Martijn Kaars</td>\n",
       "      <td>€50k</td>\n",
       "      <td>2018</td>\n",
       "      <td>Centre-Forward</td>\n",
       "    </tr>\n",
       "  </tbody>\n",
       "</table>\n",
       "<p>24610 rows × 4 columns</p>\n",
       "</div>"
      ],
      "text/plain": [
       "                    Name    Value  Year        Position\n",
       "0                Ederson  €40.00m  2023      Goalkeeper\n",
       "1          Stefan Ortega   €9.00m  2023      Goalkeeper\n",
       "2           Scott Carson    €200k  2023      Goalkeeper\n",
       "3             Rúben Dias  €80.00m  2023     Centre-Back\n",
       "4         Josko Gvardiol  €80.00m  2023     Centre-Back\n",
       "...                  ...      ...   ...             ...\n",
       "24605         Cas Peters    €400k  2018  Centre-Forward\n",
       "24606         Enzo Stroo    €250k  2018  Centre-Forward\n",
       "24607      Teije ten Den    €150k  2018  Centre-Forward\n",
       "24608  Dani van der Moot     €75k  2018  Centre-Forward\n",
       "24609      Martijn Kaars     €50k  2018  Centre-Forward\n",
       "\n",
       "[24610 rows x 4 columns]"
      ]
     },
     "execution_count": 41,
     "metadata": {},
     "output_type": "execute_result"
    }
   ],
   "source": [
    "transfermarkt_df"
   ]
  },
  {
   "cell_type": "code",
   "execution_count": 42,
   "id": "fa9fdd88",
   "metadata": {},
   "outputs": [],
   "source": [
    "transfermarkt_df.to_csv('transfermarkt_price.csv', index=False)"
   ]
  }
 ],
 "metadata": {
  "kernelspec": {
   "display_name": "Python 3 (ipykernel)",
   "language": "python",
   "name": "python3"
  },
  "language_info": {
   "codemirror_mode": {
    "name": "ipython",
    "version": 3
   },
   "file_extension": ".py",
   "mimetype": "text/x-python",
   "name": "python",
   "nbconvert_exporter": "python",
   "pygments_lexer": "ipython3",
   "version": "3.9.7"
  }
 },
 "nbformat": 4,
 "nbformat_minor": 5
}
