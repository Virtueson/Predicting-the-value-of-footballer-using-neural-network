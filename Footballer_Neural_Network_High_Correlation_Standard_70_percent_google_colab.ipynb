{
  "cells": [
    {
      "cell_type": "code",
      "execution_count": null,
      "id": "918411d6",
      "metadata": {
        "id": "918411d6"
      },
      "outputs": [],
      "source": [
        "import pandas as pd\n",
        "import numpy as np"
      ]
    },
    {
      "cell_type": "code",
      "execution_count": null,
      "id": "6pdMPHLFUS91",
      "metadata": {
        "colab": {
          "base_uri": "https://localhost:8080/",
          "height": 73
        },
        "id": "6pdMPHLFUS91",
        "outputId": "3cc202b6-cc94-4aa6-a47d-8bef89784fbf"
      },
      "outputs": [
        {
          "output_type": "display_data",
          "data": {
            "text/plain": [
              "<IPython.core.display.HTML object>"
            ],
            "text/html": [
              "\n",
              "     <input type=\"file\" id=\"files-b03b14c8-5b06-45c4-8cac-57740feb78d1\" name=\"files[]\" multiple disabled\n",
              "        style=\"border:none\" />\n",
              "     <output id=\"result-b03b14c8-5b06-45c4-8cac-57740feb78d1\">\n",
              "      Upload widget is only available when the cell has been executed in the\n",
              "      current browser session. Please rerun this cell to enable.\n",
              "      </output>\n",
              "      <script>// Copyright 2017 Google LLC\n",
              "//\n",
              "// Licensed under the Apache License, Version 2.0 (the \"License\");\n",
              "// you may not use this file except in compliance with the License.\n",
              "// You may obtain a copy of the License at\n",
              "//\n",
              "//      http://www.apache.org/licenses/LICENSE-2.0\n",
              "//\n",
              "// Unless required by applicable law or agreed to in writing, software\n",
              "// distributed under the License is distributed on an \"AS IS\" BASIS,\n",
              "// WITHOUT WARRANTIES OR CONDITIONS OF ANY KIND, either express or implied.\n",
              "// See the License for the specific language governing permissions and\n",
              "// limitations under the License.\n",
              "\n",
              "/**\n",
              " * @fileoverview Helpers for google.colab Python module.\n",
              " */\n",
              "(function(scope) {\n",
              "function span(text, styleAttributes = {}) {\n",
              "  const element = document.createElement('span');\n",
              "  element.textContent = text;\n",
              "  for (const key of Object.keys(styleAttributes)) {\n",
              "    element.style[key] = styleAttributes[key];\n",
              "  }\n",
              "  return element;\n",
              "}\n",
              "\n",
              "// Max number of bytes which will be uploaded at a time.\n",
              "const MAX_PAYLOAD_SIZE = 100 * 1024;\n",
              "\n",
              "function _uploadFiles(inputId, outputId) {\n",
              "  const steps = uploadFilesStep(inputId, outputId);\n",
              "  const outputElement = document.getElementById(outputId);\n",
              "  // Cache steps on the outputElement to make it available for the next call\n",
              "  // to uploadFilesContinue from Python.\n",
              "  outputElement.steps = steps;\n",
              "\n",
              "  return _uploadFilesContinue(outputId);\n",
              "}\n",
              "\n",
              "// This is roughly an async generator (not supported in the browser yet),\n",
              "// where there are multiple asynchronous steps and the Python side is going\n",
              "// to poll for completion of each step.\n",
              "// This uses a Promise to block the python side on completion of each step,\n",
              "// then passes the result of the previous step as the input to the next step.\n",
              "function _uploadFilesContinue(outputId) {\n",
              "  const outputElement = document.getElementById(outputId);\n",
              "  const steps = outputElement.steps;\n",
              "\n",
              "  const next = steps.next(outputElement.lastPromiseValue);\n",
              "  return Promise.resolve(next.value.promise).then((value) => {\n",
              "    // Cache the last promise value to make it available to the next\n",
              "    // step of the generator.\n",
              "    outputElement.lastPromiseValue = value;\n",
              "    return next.value.response;\n",
              "  });\n",
              "}\n",
              "\n",
              "/**\n",
              " * Generator function which is called between each async step of the upload\n",
              " * process.\n",
              " * @param {string} inputId Element ID of the input file picker element.\n",
              " * @param {string} outputId Element ID of the output display.\n",
              " * @return {!Iterable<!Object>} Iterable of next steps.\n",
              " */\n",
              "function* uploadFilesStep(inputId, outputId) {\n",
              "  const inputElement = document.getElementById(inputId);\n",
              "  inputElement.disabled = false;\n",
              "\n",
              "  const outputElement = document.getElementById(outputId);\n",
              "  outputElement.innerHTML = '';\n",
              "\n",
              "  const pickedPromise = new Promise((resolve) => {\n",
              "    inputElement.addEventListener('change', (e) => {\n",
              "      resolve(e.target.files);\n",
              "    });\n",
              "  });\n",
              "\n",
              "  const cancel = document.createElement('button');\n",
              "  inputElement.parentElement.appendChild(cancel);\n",
              "  cancel.textContent = 'Cancel upload';\n",
              "  const cancelPromise = new Promise((resolve) => {\n",
              "    cancel.onclick = () => {\n",
              "      resolve(null);\n",
              "    };\n",
              "  });\n",
              "\n",
              "  // Wait for the user to pick the files.\n",
              "  const files = yield {\n",
              "    promise: Promise.race([pickedPromise, cancelPromise]),\n",
              "    response: {\n",
              "      action: 'starting',\n",
              "    }\n",
              "  };\n",
              "\n",
              "  cancel.remove();\n",
              "\n",
              "  // Disable the input element since further picks are not allowed.\n",
              "  inputElement.disabled = true;\n",
              "\n",
              "  if (!files) {\n",
              "    return {\n",
              "      response: {\n",
              "        action: 'complete',\n",
              "      }\n",
              "    };\n",
              "  }\n",
              "\n",
              "  for (const file of files) {\n",
              "    const li = document.createElement('li');\n",
              "    li.append(span(file.name, {fontWeight: 'bold'}));\n",
              "    li.append(span(\n",
              "        `(${file.type || 'n/a'}) - ${file.size} bytes, ` +\n",
              "        `last modified: ${\n",
              "            file.lastModifiedDate ? file.lastModifiedDate.toLocaleDateString() :\n",
              "                                    'n/a'} - `));\n",
              "    const percent = span('0% done');\n",
              "    li.appendChild(percent);\n",
              "\n",
              "    outputElement.appendChild(li);\n",
              "\n",
              "    const fileDataPromise = new Promise((resolve) => {\n",
              "      const reader = new FileReader();\n",
              "      reader.onload = (e) => {\n",
              "        resolve(e.target.result);\n",
              "      };\n",
              "      reader.readAsArrayBuffer(file);\n",
              "    });\n",
              "    // Wait for the data to be ready.\n",
              "    let fileData = yield {\n",
              "      promise: fileDataPromise,\n",
              "      response: {\n",
              "        action: 'continue',\n",
              "      }\n",
              "    };\n",
              "\n",
              "    // Use a chunked sending to avoid message size limits. See b/62115660.\n",
              "    let position = 0;\n",
              "    do {\n",
              "      const length = Math.min(fileData.byteLength - position, MAX_PAYLOAD_SIZE);\n",
              "      const chunk = new Uint8Array(fileData, position, length);\n",
              "      position += length;\n",
              "\n",
              "      const base64 = btoa(String.fromCharCode.apply(null, chunk));\n",
              "      yield {\n",
              "        response: {\n",
              "          action: 'append',\n",
              "          file: file.name,\n",
              "          data: base64,\n",
              "        },\n",
              "      };\n",
              "\n",
              "      let percentDone = fileData.byteLength === 0 ?\n",
              "          100 :\n",
              "          Math.round((position / fileData.byteLength) * 100);\n",
              "      percent.textContent = `${percentDone}% done`;\n",
              "\n",
              "    } while (position < fileData.byteLength);\n",
              "  }\n",
              "\n",
              "  // All done.\n",
              "  yield {\n",
              "    response: {\n",
              "      action: 'complete',\n",
              "    }\n",
              "  };\n",
              "}\n",
              "\n",
              "scope.google = scope.google || {};\n",
              "scope.google.colab = scope.google.colab || {};\n",
              "scope.google.colab._files = {\n",
              "  _uploadFiles,\n",
              "  _uploadFilesContinue,\n",
              "};\n",
              "})(self);\n",
              "</script> "
            ]
          },
          "metadata": {}
        },
        {
          "output_type": "stream",
          "name": "stdout",
          "text": [
            "Saving footballer_input_high_corr_standard.csv to footballer_input_high_corr_standard.csv\n"
          ]
        }
      ],
      "source": [
        "from google.colab import files\n",
        "uploaded = files.upload()"
      ]
    },
    {
      "cell_type": "code",
      "execution_count": null,
      "id": "rkFEDrAznDNm",
      "metadata": {
        "colab": {
          "base_uri": "https://localhost:8080/",
          "height": 73
        },
        "id": "rkFEDrAznDNm",
        "outputId": "e2e42803-55bc-49fb-dce6-c59e306ab07d"
      },
      "outputs": [
        {
          "output_type": "display_data",
          "data": {
            "text/plain": [
              "<IPython.core.display.HTML object>"
            ],
            "text/html": [
              "\n",
              "     <input type=\"file\" id=\"files-9c7fa928-7562-492e-bd9b-844ce3f028cd\" name=\"files[]\" multiple disabled\n",
              "        style=\"border:none\" />\n",
              "     <output id=\"result-9c7fa928-7562-492e-bd9b-844ce3f028cd\">\n",
              "      Upload widget is only available when the cell has been executed in the\n",
              "      current browser session. Please rerun this cell to enable.\n",
              "      </output>\n",
              "      <script>// Copyright 2017 Google LLC\n",
              "//\n",
              "// Licensed under the Apache License, Version 2.0 (the \"License\");\n",
              "// you may not use this file except in compliance with the License.\n",
              "// You may obtain a copy of the License at\n",
              "//\n",
              "//      http://www.apache.org/licenses/LICENSE-2.0\n",
              "//\n",
              "// Unless required by applicable law or agreed to in writing, software\n",
              "// distributed under the License is distributed on an \"AS IS\" BASIS,\n",
              "// WITHOUT WARRANTIES OR CONDITIONS OF ANY KIND, either express or implied.\n",
              "// See the License for the specific language governing permissions and\n",
              "// limitations under the License.\n",
              "\n",
              "/**\n",
              " * @fileoverview Helpers for google.colab Python module.\n",
              " */\n",
              "(function(scope) {\n",
              "function span(text, styleAttributes = {}) {\n",
              "  const element = document.createElement('span');\n",
              "  element.textContent = text;\n",
              "  for (const key of Object.keys(styleAttributes)) {\n",
              "    element.style[key] = styleAttributes[key];\n",
              "  }\n",
              "  return element;\n",
              "}\n",
              "\n",
              "// Max number of bytes which will be uploaded at a time.\n",
              "const MAX_PAYLOAD_SIZE = 100 * 1024;\n",
              "\n",
              "function _uploadFiles(inputId, outputId) {\n",
              "  const steps = uploadFilesStep(inputId, outputId);\n",
              "  const outputElement = document.getElementById(outputId);\n",
              "  // Cache steps on the outputElement to make it available for the next call\n",
              "  // to uploadFilesContinue from Python.\n",
              "  outputElement.steps = steps;\n",
              "\n",
              "  return _uploadFilesContinue(outputId);\n",
              "}\n",
              "\n",
              "// This is roughly an async generator (not supported in the browser yet),\n",
              "// where there are multiple asynchronous steps and the Python side is going\n",
              "// to poll for completion of each step.\n",
              "// This uses a Promise to block the python side on completion of each step,\n",
              "// then passes the result of the previous step as the input to the next step.\n",
              "function _uploadFilesContinue(outputId) {\n",
              "  const outputElement = document.getElementById(outputId);\n",
              "  const steps = outputElement.steps;\n",
              "\n",
              "  const next = steps.next(outputElement.lastPromiseValue);\n",
              "  return Promise.resolve(next.value.promise).then((value) => {\n",
              "    // Cache the last promise value to make it available to the next\n",
              "    // step of the generator.\n",
              "    outputElement.lastPromiseValue = value;\n",
              "    return next.value.response;\n",
              "  });\n",
              "}\n",
              "\n",
              "/**\n",
              " * Generator function which is called between each async step of the upload\n",
              " * process.\n",
              " * @param {string} inputId Element ID of the input file picker element.\n",
              " * @param {string} outputId Element ID of the output display.\n",
              " * @return {!Iterable<!Object>} Iterable of next steps.\n",
              " */\n",
              "function* uploadFilesStep(inputId, outputId) {\n",
              "  const inputElement = document.getElementById(inputId);\n",
              "  inputElement.disabled = false;\n",
              "\n",
              "  const outputElement = document.getElementById(outputId);\n",
              "  outputElement.innerHTML = '';\n",
              "\n",
              "  const pickedPromise = new Promise((resolve) => {\n",
              "    inputElement.addEventListener('change', (e) => {\n",
              "      resolve(e.target.files);\n",
              "    });\n",
              "  });\n",
              "\n",
              "  const cancel = document.createElement('button');\n",
              "  inputElement.parentElement.appendChild(cancel);\n",
              "  cancel.textContent = 'Cancel upload';\n",
              "  const cancelPromise = new Promise((resolve) => {\n",
              "    cancel.onclick = () => {\n",
              "      resolve(null);\n",
              "    };\n",
              "  });\n",
              "\n",
              "  // Wait for the user to pick the files.\n",
              "  const files = yield {\n",
              "    promise: Promise.race([pickedPromise, cancelPromise]),\n",
              "    response: {\n",
              "      action: 'starting',\n",
              "    }\n",
              "  };\n",
              "\n",
              "  cancel.remove();\n",
              "\n",
              "  // Disable the input element since further picks are not allowed.\n",
              "  inputElement.disabled = true;\n",
              "\n",
              "  if (!files) {\n",
              "    return {\n",
              "      response: {\n",
              "        action: 'complete',\n",
              "      }\n",
              "    };\n",
              "  }\n",
              "\n",
              "  for (const file of files) {\n",
              "    const li = document.createElement('li');\n",
              "    li.append(span(file.name, {fontWeight: 'bold'}));\n",
              "    li.append(span(\n",
              "        `(${file.type || 'n/a'}) - ${file.size} bytes, ` +\n",
              "        `last modified: ${\n",
              "            file.lastModifiedDate ? file.lastModifiedDate.toLocaleDateString() :\n",
              "                                    'n/a'} - `));\n",
              "    const percent = span('0% done');\n",
              "    li.appendChild(percent);\n",
              "\n",
              "    outputElement.appendChild(li);\n",
              "\n",
              "    const fileDataPromise = new Promise((resolve) => {\n",
              "      const reader = new FileReader();\n",
              "      reader.onload = (e) => {\n",
              "        resolve(e.target.result);\n",
              "      };\n",
              "      reader.readAsArrayBuffer(file);\n",
              "    });\n",
              "    // Wait for the data to be ready.\n",
              "    let fileData = yield {\n",
              "      promise: fileDataPromise,\n",
              "      response: {\n",
              "        action: 'continue',\n",
              "      }\n",
              "    };\n",
              "\n",
              "    // Use a chunked sending to avoid message size limits. See b/62115660.\n",
              "    let position = 0;\n",
              "    do {\n",
              "      const length = Math.min(fileData.byteLength - position, MAX_PAYLOAD_SIZE);\n",
              "      const chunk = new Uint8Array(fileData, position, length);\n",
              "      position += length;\n",
              "\n",
              "      const base64 = btoa(String.fromCharCode.apply(null, chunk));\n",
              "      yield {\n",
              "        response: {\n",
              "          action: 'append',\n",
              "          file: file.name,\n",
              "          data: base64,\n",
              "        },\n",
              "      };\n",
              "\n",
              "      let percentDone = fileData.byteLength === 0 ?\n",
              "          100 :\n",
              "          Math.round((position / fileData.byteLength) * 100);\n",
              "      percent.textContent = `${percentDone}% done`;\n",
              "\n",
              "    } while (position < fileData.byteLength);\n",
              "  }\n",
              "\n",
              "  // All done.\n",
              "  yield {\n",
              "    response: {\n",
              "      action: 'complete',\n",
              "    }\n",
              "  };\n",
              "}\n",
              "\n",
              "scope.google = scope.google || {};\n",
              "scope.google.colab = scope.google.colab || {};\n",
              "scope.google.colab._files = {\n",
              "  _uploadFiles,\n",
              "  _uploadFilesContinue,\n",
              "};\n",
              "})(self);\n",
              "</script> "
            ]
          },
          "metadata": {}
        },
        {
          "output_type": "stream",
          "name": "stdout",
          "text": [
            "Saving footballer_target_high_corr_standard.csv to footballer_target_high_corr_standard.csv\n"
          ]
        }
      ],
      "source": [
        "uploaded2 = files.upload()"
      ]
    },
    {
      "cell_type": "code",
      "execution_count": null,
      "id": "cd6f0ff5",
      "metadata": {
        "id": "cd6f0ff5"
      },
      "outputs": [],
      "source": [
        "import io\n",
        "footballer_input = pd.read_csv(io.BytesIO(uploaded['footballer_input_high_corr_standard.csv']))\n",
        "footballer_target = pd.read_csv(io.BytesIO(uploaded2['footballer_target_high_corr_standard.csv']))"
      ]
    },
    {
      "cell_type": "code",
      "execution_count": null,
      "id": "TrFwiUzTpMKo",
      "metadata": {
        "colab": {
          "base_uri": "https://localhost:8080/",
          "height": 461
        },
        "id": "TrFwiUzTpMKo",
        "outputId": "e4037d31-2dc2-4471-e6b4-6ee1d6e98d02"
      },
      "outputs": [
        {
          "output_type": "execute_result",
          "data": {
            "text/plain": [
              "           PPA  Cmp_Total  Rk  Att Pen_Touches  TotDist_Total  SoT_Standard  \\\n",
              "0     0.814335   1.372565  12        -0.702122       1.350722     -0.358424   \n",
              "1     1.322947   0.203088  12         1.591620      -0.081721      2.178451   \n",
              "2    -0.796269  -1.173461  12        -0.423153      -1.132685     -0.224904   \n",
              "3    -1.050575  -0.549896  12        -0.733118      -0.371736     -0.491944   \n",
              "4     0.136186  -0.829912  12        -0.826108      -0.812970     -0.892503   \n",
              "...        ...        ...  ..              ...            ...           ...   \n",
              "9153 -0.040773   1.216125  20        -0.386235       0.881403     -0.554060   \n",
              "9154 -0.868495   0.816075  19        -0.643643       1.178067     -0.728659   \n",
              "9155  1.614671  -0.025698  19         1.562712      -0.136761      2.763317   \n",
              "9156 -1.052433  -0.775792  13        -0.937823      -0.581602     -0.728659   \n",
              "9157 -0.040773  -0.022920  13         0.055036      -0.021204      0.842730   \n",
              "\n",
              "      Att 3rd_Touches  npxG+xAG_Expected  CPA_Carries  Cmp_Short  ...  \\\n",
              "0            0.333384          -0.357787    -0.449363   1.150196  ...   \n",
              "1            1.655210           1.369322     0.405010   0.655444  ...   \n",
              "2           -0.656579          -0.465731    -0.259502  -1.205763  ...   \n",
              "3           -0.960318          -0.465731    -0.734154  -0.817030  ...   \n",
              "4           -0.425963          -0.735592    -0.354433  -0.828810  ...   \n",
              "...               ...                ...          ...        ...  ...   \n",
              "9153         1.096042          -0.447382     0.070588   1.782892  ...   \n",
              "9154        -1.165800          -0.828457    -0.619947   0.086153  ...   \n",
              "9155         2.395399           1.457993     3.062908   0.283592  ...   \n",
              "9156        -1.358297          -1.018995    -0.735037  -1.141669  ...   \n",
              "9157         0.821046           1.153133     0.415856   0.030624  ...   \n",
              "\n",
              "      Compe_Premier League  Compe_Serie A  Position_Central Midfield  \\\n",
              "0                      0.0            0.0                        0.0   \n",
              "1                      0.0            0.0                        0.0   \n",
              "2                      0.0            0.0                        0.0   \n",
              "3                      0.0            0.0                        0.0   \n",
              "4                      0.0            0.0                        0.0   \n",
              "...                    ...            ...                        ...   \n",
              "9153                   0.0            1.0                        0.0   \n",
              "9154                   0.0            1.0                        0.0   \n",
              "9155                   0.0            1.0                        0.0   \n",
              "9156                   0.0            1.0                        0.0   \n",
              "9157                   0.0            1.0                        1.0   \n",
              "\n",
              "      Position_Centre-Back  Position_Centre-Forward  \\\n",
              "0                      0.0                      0.0   \n",
              "1                      0.0                      0.0   \n",
              "2                      0.0                      1.0   \n",
              "3                      1.0                      0.0   \n",
              "4                      0.0                      0.0   \n",
              "...                    ...                      ...   \n",
              "9153                   0.0                      0.0   \n",
              "9154                   1.0                      0.0   \n",
              "9155                   0.0                      0.0   \n",
              "9156                   1.0                      0.0   \n",
              "9157                   0.0                      0.0   \n",
              "\n",
              "      Position_Defensive Midfield  Position_Left Winger  Position_Left-Back  \\\n",
              "0                             1.0                   0.0                 0.0   \n",
              "1                             0.0                   1.0                 0.0   \n",
              "2                             0.0                   0.0                 0.0   \n",
              "3                             0.0                   0.0                 0.0   \n",
              "4                             0.0                   0.0                 0.0   \n",
              "...                           ...                   ...                 ...   \n",
              "9153                          0.0                   0.0                 1.0   \n",
              "9154                          0.0                   0.0                 0.0   \n",
              "9155                          0.0                   1.0                 0.0   \n",
              "9156                          0.0                   0.0                 0.0   \n",
              "9157                          0.0                   0.0                 0.0   \n",
              "\n",
              "      Position_Right Winger  Position_Right-Back  \n",
              "0                       0.0                  0.0  \n",
              "1                       0.0                  0.0  \n",
              "2                       0.0                  0.0  \n",
              "3                       0.0                  0.0  \n",
              "4                       0.0                  1.0  \n",
              "...                     ...                  ...  \n",
              "9153                    0.0                  0.0  \n",
              "9154                    0.0                  0.0  \n",
              "9155                    0.0                  0.0  \n",
              "9156                    0.0                  0.0  \n",
              "9157                    0.0                  0.0  \n",
              "\n",
              "[9158 rows x 41 columns]"
            ],
            "text/html": [
              "\n",
              "  <div id=\"df-22e3b180-0bd3-4b4d-b37d-0022d658a59b\" class=\"colab-df-container\">\n",
              "    <div>\n",
              "<style scoped>\n",
              "    .dataframe tbody tr th:only-of-type {\n",
              "        vertical-align: middle;\n",
              "    }\n",
              "\n",
              "    .dataframe tbody tr th {\n",
              "        vertical-align: top;\n",
              "    }\n",
              "\n",
              "    .dataframe thead th {\n",
              "        text-align: right;\n",
              "    }\n",
              "</style>\n",
              "<table border=\"1\" class=\"dataframe\">\n",
              "  <thead>\n",
              "    <tr style=\"text-align: right;\">\n",
              "      <th></th>\n",
              "      <th>PPA</th>\n",
              "      <th>Cmp_Total</th>\n",
              "      <th>Rk</th>\n",
              "      <th>Att Pen_Touches</th>\n",
              "      <th>TotDist_Total</th>\n",
              "      <th>SoT_Standard</th>\n",
              "      <th>Att 3rd_Touches</th>\n",
              "      <th>npxG+xAG_Expected</th>\n",
              "      <th>CPA_Carries</th>\n",
              "      <th>Cmp_Short</th>\n",
              "      <th>...</th>\n",
              "      <th>Compe_Premier League</th>\n",
              "      <th>Compe_Serie A</th>\n",
              "      <th>Position_Central Midfield</th>\n",
              "      <th>Position_Centre-Back</th>\n",
              "      <th>Position_Centre-Forward</th>\n",
              "      <th>Position_Defensive Midfield</th>\n",
              "      <th>Position_Left Winger</th>\n",
              "      <th>Position_Left-Back</th>\n",
              "      <th>Position_Right Winger</th>\n",
              "      <th>Position_Right-Back</th>\n",
              "    </tr>\n",
              "  </thead>\n",
              "  <tbody>\n",
              "    <tr>\n",
              "      <th>0</th>\n",
              "      <td>0.814335</td>\n",
              "      <td>1.372565</td>\n",
              "      <td>12</td>\n",
              "      <td>-0.702122</td>\n",
              "      <td>1.350722</td>\n",
              "      <td>-0.358424</td>\n",
              "      <td>0.333384</td>\n",
              "      <td>-0.357787</td>\n",
              "      <td>-0.449363</td>\n",
              "      <td>1.150196</td>\n",
              "      <td>...</td>\n",
              "      <td>0.0</td>\n",
              "      <td>0.0</td>\n",
              "      <td>0.0</td>\n",
              "      <td>0.0</td>\n",
              "      <td>0.0</td>\n",
              "      <td>1.0</td>\n",
              "      <td>0.0</td>\n",
              "      <td>0.0</td>\n",
              "      <td>0.0</td>\n",
              "      <td>0.0</td>\n",
              "    </tr>\n",
              "    <tr>\n",
              "      <th>1</th>\n",
              "      <td>1.322947</td>\n",
              "      <td>0.203088</td>\n",
              "      <td>12</td>\n",
              "      <td>1.591620</td>\n",
              "      <td>-0.081721</td>\n",
              "      <td>2.178451</td>\n",
              "      <td>1.655210</td>\n",
              "      <td>1.369322</td>\n",
              "      <td>0.405010</td>\n",
              "      <td>0.655444</td>\n",
              "      <td>...</td>\n",
              "      <td>0.0</td>\n",
              "      <td>0.0</td>\n",
              "      <td>0.0</td>\n",
              "      <td>0.0</td>\n",
              "      <td>0.0</td>\n",
              "      <td>0.0</td>\n",
              "      <td>1.0</td>\n",
              "      <td>0.0</td>\n",
              "      <td>0.0</td>\n",
              "      <td>0.0</td>\n",
              "    </tr>\n",
              "    <tr>\n",
              "      <th>2</th>\n",
              "      <td>-0.796269</td>\n",
              "      <td>-1.173461</td>\n",
              "      <td>12</td>\n",
              "      <td>-0.423153</td>\n",
              "      <td>-1.132685</td>\n",
              "      <td>-0.224904</td>\n",
              "      <td>-0.656579</td>\n",
              "      <td>-0.465731</td>\n",
              "      <td>-0.259502</td>\n",
              "      <td>-1.205763</td>\n",
              "      <td>...</td>\n",
              "      <td>0.0</td>\n",
              "      <td>0.0</td>\n",
              "      <td>0.0</td>\n",
              "      <td>0.0</td>\n",
              "      <td>1.0</td>\n",
              "      <td>0.0</td>\n",
              "      <td>0.0</td>\n",
              "      <td>0.0</td>\n",
              "      <td>0.0</td>\n",
              "      <td>0.0</td>\n",
              "    </tr>\n",
              "    <tr>\n",
              "      <th>3</th>\n",
              "      <td>-1.050575</td>\n",
              "      <td>-0.549896</td>\n",
              "      <td>12</td>\n",
              "      <td>-0.733118</td>\n",
              "      <td>-0.371736</td>\n",
              "      <td>-0.491944</td>\n",
              "      <td>-0.960318</td>\n",
              "      <td>-0.465731</td>\n",
              "      <td>-0.734154</td>\n",
              "      <td>-0.817030</td>\n",
              "      <td>...</td>\n",
              "      <td>0.0</td>\n",
              "      <td>0.0</td>\n",
              "      <td>0.0</td>\n",
              "      <td>1.0</td>\n",
              "      <td>0.0</td>\n",
              "      <td>0.0</td>\n",
              "      <td>0.0</td>\n",
              "      <td>0.0</td>\n",
              "      <td>0.0</td>\n",
              "      <td>0.0</td>\n",
              "    </tr>\n",
              "    <tr>\n",
              "      <th>4</th>\n",
              "      <td>0.136186</td>\n",
              "      <td>-0.829912</td>\n",
              "      <td>12</td>\n",
              "      <td>-0.826108</td>\n",
              "      <td>-0.812970</td>\n",
              "      <td>-0.892503</td>\n",
              "      <td>-0.425963</td>\n",
              "      <td>-0.735592</td>\n",
              "      <td>-0.354433</td>\n",
              "      <td>-0.828810</td>\n",
              "      <td>...</td>\n",
              "      <td>0.0</td>\n",
              "      <td>0.0</td>\n",
              "      <td>0.0</td>\n",
              "      <td>0.0</td>\n",
              "      <td>0.0</td>\n",
              "      <td>0.0</td>\n",
              "      <td>0.0</td>\n",
              "      <td>0.0</td>\n",
              "      <td>0.0</td>\n",
              "      <td>1.0</td>\n",
              "    </tr>\n",
              "    <tr>\n",
              "      <th>...</th>\n",
              "      <td>...</td>\n",
              "      <td>...</td>\n",
              "      <td>...</td>\n",
              "      <td>...</td>\n",
              "      <td>...</td>\n",
              "      <td>...</td>\n",
              "      <td>...</td>\n",
              "      <td>...</td>\n",
              "      <td>...</td>\n",
              "      <td>...</td>\n",
              "      <td>...</td>\n",
              "      <td>...</td>\n",
              "      <td>...</td>\n",
              "      <td>...</td>\n",
              "      <td>...</td>\n",
              "      <td>...</td>\n",
              "      <td>...</td>\n",
              "      <td>...</td>\n",
              "      <td>...</td>\n",
              "      <td>...</td>\n",
              "      <td>...</td>\n",
              "    </tr>\n",
              "    <tr>\n",
              "      <th>9153</th>\n",
              "      <td>-0.040773</td>\n",
              "      <td>1.216125</td>\n",
              "      <td>20</td>\n",
              "      <td>-0.386235</td>\n",
              "      <td>0.881403</td>\n",
              "      <td>-0.554060</td>\n",
              "      <td>1.096042</td>\n",
              "      <td>-0.447382</td>\n",
              "      <td>0.070588</td>\n",
              "      <td>1.782892</td>\n",
              "      <td>...</td>\n",
              "      <td>0.0</td>\n",
              "      <td>1.0</td>\n",
              "      <td>0.0</td>\n",
              "      <td>0.0</td>\n",
              "      <td>0.0</td>\n",
              "      <td>0.0</td>\n",
              "      <td>0.0</td>\n",
              "      <td>1.0</td>\n",
              "      <td>0.0</td>\n",
              "      <td>0.0</td>\n",
              "    </tr>\n",
              "    <tr>\n",
              "      <th>9154</th>\n",
              "      <td>-0.868495</td>\n",
              "      <td>0.816075</td>\n",
              "      <td>19</td>\n",
              "      <td>-0.643643</td>\n",
              "      <td>1.178067</td>\n",
              "      <td>-0.728659</td>\n",
              "      <td>-1.165800</td>\n",
              "      <td>-0.828457</td>\n",
              "      <td>-0.619947</td>\n",
              "      <td>0.086153</td>\n",
              "      <td>...</td>\n",
              "      <td>0.0</td>\n",
              "      <td>1.0</td>\n",
              "      <td>0.0</td>\n",
              "      <td>1.0</td>\n",
              "      <td>0.0</td>\n",
              "      <td>0.0</td>\n",
              "      <td>0.0</td>\n",
              "      <td>0.0</td>\n",
              "      <td>0.0</td>\n",
              "      <td>0.0</td>\n",
              "    </tr>\n",
              "    <tr>\n",
              "      <th>9155</th>\n",
              "      <td>1.614671</td>\n",
              "      <td>-0.025698</td>\n",
              "      <td>19</td>\n",
              "      <td>1.562712</td>\n",
              "      <td>-0.136761</td>\n",
              "      <td>2.763317</td>\n",
              "      <td>2.395399</td>\n",
              "      <td>1.457993</td>\n",
              "      <td>3.062908</td>\n",
              "      <td>0.283592</td>\n",
              "      <td>...</td>\n",
              "      <td>0.0</td>\n",
              "      <td>1.0</td>\n",
              "      <td>0.0</td>\n",
              "      <td>0.0</td>\n",
              "      <td>0.0</td>\n",
              "      <td>0.0</td>\n",
              "      <td>1.0</td>\n",
              "      <td>0.0</td>\n",
              "      <td>0.0</td>\n",
              "      <td>0.0</td>\n",
              "    </tr>\n",
              "    <tr>\n",
              "      <th>9156</th>\n",
              "      <td>-1.052433</td>\n",
              "      <td>-0.775792</td>\n",
              "      <td>13</td>\n",
              "      <td>-0.937823</td>\n",
              "      <td>-0.581602</td>\n",
              "      <td>-0.728659</td>\n",
              "      <td>-1.358297</td>\n",
              "      <td>-1.018995</td>\n",
              "      <td>-0.735037</td>\n",
              "      <td>-1.141669</td>\n",
              "      <td>...</td>\n",
              "      <td>0.0</td>\n",
              "      <td>1.0</td>\n",
              "      <td>0.0</td>\n",
              "      <td>1.0</td>\n",
              "      <td>0.0</td>\n",
              "      <td>0.0</td>\n",
              "      <td>0.0</td>\n",
              "      <td>0.0</td>\n",
              "      <td>0.0</td>\n",
              "      <td>0.0</td>\n",
              "    </tr>\n",
              "    <tr>\n",
              "      <th>9157</th>\n",
              "      <td>-0.040773</td>\n",
              "      <td>-0.022920</td>\n",
              "      <td>13</td>\n",
              "      <td>0.055036</td>\n",
              "      <td>-0.021204</td>\n",
              "      <td>0.842730</td>\n",
              "      <td>0.821046</td>\n",
              "      <td>1.153133</td>\n",
              "      <td>0.415856</td>\n",
              "      <td>0.030624</td>\n",
              "      <td>...</td>\n",
              "      <td>0.0</td>\n",
              "      <td>1.0</td>\n",
              "      <td>1.0</td>\n",
              "      <td>0.0</td>\n",
              "      <td>0.0</td>\n",
              "      <td>0.0</td>\n",
              "      <td>0.0</td>\n",
              "      <td>0.0</td>\n",
              "      <td>0.0</td>\n",
              "      <td>0.0</td>\n",
              "    </tr>\n",
              "  </tbody>\n",
              "</table>\n",
              "<p>9158 rows × 41 columns</p>\n",
              "</div>\n",
              "    <div class=\"colab-df-buttons\">\n",
              "\n",
              "  <div class=\"colab-df-container\">\n",
              "    <button class=\"colab-df-convert\" onclick=\"convertToInteractive('df-22e3b180-0bd3-4b4d-b37d-0022d658a59b')\"\n",
              "            title=\"Convert this dataframe to an interactive table.\"\n",
              "            style=\"display:none;\">\n",
              "\n",
              "  <svg xmlns=\"http://www.w3.org/2000/svg\" height=\"24px\" viewBox=\"0 -960 960 960\">\n",
              "    <path d=\"M120-120v-720h720v720H120Zm60-500h600v-160H180v160Zm220 220h160v-160H400v160Zm0 220h160v-160H400v160ZM180-400h160v-160H180v160Zm440 0h160v-160H620v160ZM180-180h160v-160H180v160Zm440 0h160v-160H620v160Z\"/>\n",
              "  </svg>\n",
              "    </button>\n",
              "\n",
              "  <style>\n",
              "    .colab-df-container {\n",
              "      display:flex;\n",
              "      gap: 12px;\n",
              "    }\n",
              "\n",
              "    .colab-df-convert {\n",
              "      background-color: #E8F0FE;\n",
              "      border: none;\n",
              "      border-radius: 50%;\n",
              "      cursor: pointer;\n",
              "      display: none;\n",
              "      fill: #1967D2;\n",
              "      height: 32px;\n",
              "      padding: 0 0 0 0;\n",
              "      width: 32px;\n",
              "    }\n",
              "\n",
              "    .colab-df-convert:hover {\n",
              "      background-color: #E2EBFA;\n",
              "      box-shadow: 0px 1px 2px rgba(60, 64, 67, 0.3), 0px 1px 3px 1px rgba(60, 64, 67, 0.15);\n",
              "      fill: #174EA6;\n",
              "    }\n",
              "\n",
              "    .colab-df-buttons div {\n",
              "      margin-bottom: 4px;\n",
              "    }\n",
              "\n",
              "    [theme=dark] .colab-df-convert {\n",
              "      background-color: #3B4455;\n",
              "      fill: #D2E3FC;\n",
              "    }\n",
              "\n",
              "    [theme=dark] .colab-df-convert:hover {\n",
              "      background-color: #434B5C;\n",
              "      box-shadow: 0px 1px 3px 1px rgba(0, 0, 0, 0.15);\n",
              "      filter: drop-shadow(0px 1px 2px rgba(0, 0, 0, 0.3));\n",
              "      fill: #FFFFFF;\n",
              "    }\n",
              "  </style>\n",
              "\n",
              "    <script>\n",
              "      const buttonEl =\n",
              "        document.querySelector('#df-22e3b180-0bd3-4b4d-b37d-0022d658a59b button.colab-df-convert');\n",
              "      buttonEl.style.display =\n",
              "        google.colab.kernel.accessAllowed ? 'block' : 'none';\n",
              "\n",
              "      async function convertToInteractive(key) {\n",
              "        const element = document.querySelector('#df-22e3b180-0bd3-4b4d-b37d-0022d658a59b');\n",
              "        const dataTable =\n",
              "          await google.colab.kernel.invokeFunction('convertToInteractive',\n",
              "                                                    [key], {});\n",
              "        if (!dataTable) return;\n",
              "\n",
              "        const docLinkHtml = 'Like what you see? Visit the ' +\n",
              "          '<a target=\"_blank\" href=https://colab.research.google.com/notebooks/data_table.ipynb>data table notebook</a>'\n",
              "          + ' to learn more about interactive tables.';\n",
              "        element.innerHTML = '';\n",
              "        dataTable['output_type'] = 'display_data';\n",
              "        await google.colab.output.renderOutput(dataTable, element);\n",
              "        const docLink = document.createElement('div');\n",
              "        docLink.innerHTML = docLinkHtml;\n",
              "        element.appendChild(docLink);\n",
              "      }\n",
              "    </script>\n",
              "  </div>\n",
              "\n",
              "\n",
              "<div id=\"df-919618cc-d9c0-45ad-a8a2-0ea41c40204d\">\n",
              "  <button class=\"colab-df-quickchart\" onclick=\"quickchart('df-919618cc-d9c0-45ad-a8a2-0ea41c40204d')\"\n",
              "            title=\"Suggest charts\"\n",
              "            style=\"display:none;\">\n",
              "\n",
              "<svg xmlns=\"http://www.w3.org/2000/svg\" height=\"24px\"viewBox=\"0 0 24 24\"\n",
              "     width=\"24px\">\n",
              "    <g>\n",
              "        <path d=\"M19 3H5c-1.1 0-2 .9-2 2v14c0 1.1.9 2 2 2h14c1.1 0 2-.9 2-2V5c0-1.1-.9-2-2-2zM9 17H7v-7h2v7zm4 0h-2V7h2v10zm4 0h-2v-4h2v4z\"/>\n",
              "    </g>\n",
              "</svg>\n",
              "  </button>\n",
              "\n",
              "<style>\n",
              "  .colab-df-quickchart {\n",
              "      --bg-color: #E8F0FE;\n",
              "      --fill-color: #1967D2;\n",
              "      --hover-bg-color: #E2EBFA;\n",
              "      --hover-fill-color: #174EA6;\n",
              "      --disabled-fill-color: #AAA;\n",
              "      --disabled-bg-color: #DDD;\n",
              "  }\n",
              "\n",
              "  [theme=dark] .colab-df-quickchart {\n",
              "      --bg-color: #3B4455;\n",
              "      --fill-color: #D2E3FC;\n",
              "      --hover-bg-color: #434B5C;\n",
              "      --hover-fill-color: #FFFFFF;\n",
              "      --disabled-bg-color: #3B4455;\n",
              "      --disabled-fill-color: #666;\n",
              "  }\n",
              "\n",
              "  .colab-df-quickchart {\n",
              "    background-color: var(--bg-color);\n",
              "    border: none;\n",
              "    border-radius: 50%;\n",
              "    cursor: pointer;\n",
              "    display: none;\n",
              "    fill: var(--fill-color);\n",
              "    height: 32px;\n",
              "    padding: 0;\n",
              "    width: 32px;\n",
              "  }\n",
              "\n",
              "  .colab-df-quickchart:hover {\n",
              "    background-color: var(--hover-bg-color);\n",
              "    box-shadow: 0 1px 2px rgba(60, 64, 67, 0.3), 0 1px 3px 1px rgba(60, 64, 67, 0.15);\n",
              "    fill: var(--button-hover-fill-color);\n",
              "  }\n",
              "\n",
              "  .colab-df-quickchart-complete:disabled,\n",
              "  .colab-df-quickchart-complete:disabled:hover {\n",
              "    background-color: var(--disabled-bg-color);\n",
              "    fill: var(--disabled-fill-color);\n",
              "    box-shadow: none;\n",
              "  }\n",
              "\n",
              "  .colab-df-spinner {\n",
              "    border: 2px solid var(--fill-color);\n",
              "    border-color: transparent;\n",
              "    border-bottom-color: var(--fill-color);\n",
              "    animation:\n",
              "      spin 1s steps(1) infinite;\n",
              "  }\n",
              "\n",
              "  @keyframes spin {\n",
              "    0% {\n",
              "      border-color: transparent;\n",
              "      border-bottom-color: var(--fill-color);\n",
              "      border-left-color: var(--fill-color);\n",
              "    }\n",
              "    20% {\n",
              "      border-color: transparent;\n",
              "      border-left-color: var(--fill-color);\n",
              "      border-top-color: var(--fill-color);\n",
              "    }\n",
              "    30% {\n",
              "      border-color: transparent;\n",
              "      border-left-color: var(--fill-color);\n",
              "      border-top-color: var(--fill-color);\n",
              "      border-right-color: var(--fill-color);\n",
              "    }\n",
              "    40% {\n",
              "      border-color: transparent;\n",
              "      border-right-color: var(--fill-color);\n",
              "      border-top-color: var(--fill-color);\n",
              "    }\n",
              "    60% {\n",
              "      border-color: transparent;\n",
              "      border-right-color: var(--fill-color);\n",
              "    }\n",
              "    80% {\n",
              "      border-color: transparent;\n",
              "      border-right-color: var(--fill-color);\n",
              "      border-bottom-color: var(--fill-color);\n",
              "    }\n",
              "    90% {\n",
              "      border-color: transparent;\n",
              "      border-bottom-color: var(--fill-color);\n",
              "    }\n",
              "  }\n",
              "</style>\n",
              "\n",
              "  <script>\n",
              "    async function quickchart(key) {\n",
              "      const quickchartButtonEl =\n",
              "        document.querySelector('#' + key + ' button');\n",
              "      quickchartButtonEl.disabled = true;  // To prevent multiple clicks.\n",
              "      quickchartButtonEl.classList.add('colab-df-spinner');\n",
              "      try {\n",
              "        const charts = await google.colab.kernel.invokeFunction(\n",
              "            'suggestCharts', [key], {});\n",
              "      } catch (error) {\n",
              "        console.error('Error during call to suggestCharts:', error);\n",
              "      }\n",
              "      quickchartButtonEl.classList.remove('colab-df-spinner');\n",
              "      quickchartButtonEl.classList.add('colab-df-quickchart-complete');\n",
              "    }\n",
              "    (() => {\n",
              "      let quickchartButtonEl =\n",
              "        document.querySelector('#df-919618cc-d9c0-45ad-a8a2-0ea41c40204d button');\n",
              "      quickchartButtonEl.style.display =\n",
              "        google.colab.kernel.accessAllowed ? 'block' : 'none';\n",
              "    })();\n",
              "  </script>\n",
              "</div>\n",
              "    </div>\n",
              "  </div>\n"
            ],
            "application/vnd.google.colaboratory.intrinsic+json": {
              "type": "dataframe",
              "variable_name": "footballer_input"
            }
          },
          "metadata": {},
          "execution_count": 5
        }
      ],
      "source": [
        "footballer_input"
      ]
    },
    {
      "cell_type": "code",
      "execution_count": null,
      "id": "0BP33fK1pMzN",
      "metadata": {
        "colab": {
          "base_uri": "https://localhost:8080/",
          "height": 423
        },
        "id": "0BP33fK1pMzN",
        "outputId": "558d22d1-cc62-4b77-a445-6c068821fca3"
      },
      "outputs": [
        {
          "output_type": "execute_result",
          "data": {
            "text/plain": [
              "      Price\n",
              "0      1.00\n",
              "1      5.00\n",
              "2      1.50\n",
              "3      6.00\n",
              "4      0.75\n",
              "...     ...\n",
              "9153   6.50\n",
              "9154   4.00\n",
              "9155  12.00\n",
              "9156   2.80\n",
              "9157   9.00\n",
              "\n",
              "[9158 rows x 1 columns]"
            ],
            "text/html": [
              "\n",
              "  <div id=\"df-aeb41f7a-46c6-4687-9dba-0e8ba380d4ba\" class=\"colab-df-container\">\n",
              "    <div>\n",
              "<style scoped>\n",
              "    .dataframe tbody tr th:only-of-type {\n",
              "        vertical-align: middle;\n",
              "    }\n",
              "\n",
              "    .dataframe tbody tr th {\n",
              "        vertical-align: top;\n",
              "    }\n",
              "\n",
              "    .dataframe thead th {\n",
              "        text-align: right;\n",
              "    }\n",
              "</style>\n",
              "<table border=\"1\" class=\"dataframe\">\n",
              "  <thead>\n",
              "    <tr style=\"text-align: right;\">\n",
              "      <th></th>\n",
              "      <th>Price</th>\n",
              "    </tr>\n",
              "  </thead>\n",
              "  <tbody>\n",
              "    <tr>\n",
              "      <th>0</th>\n",
              "      <td>1.00</td>\n",
              "    </tr>\n",
              "    <tr>\n",
              "      <th>1</th>\n",
              "      <td>5.00</td>\n",
              "    </tr>\n",
              "    <tr>\n",
              "      <th>2</th>\n",
              "      <td>1.50</td>\n",
              "    </tr>\n",
              "    <tr>\n",
              "      <th>3</th>\n",
              "      <td>6.00</td>\n",
              "    </tr>\n",
              "    <tr>\n",
              "      <th>4</th>\n",
              "      <td>0.75</td>\n",
              "    </tr>\n",
              "    <tr>\n",
              "      <th>...</th>\n",
              "      <td>...</td>\n",
              "    </tr>\n",
              "    <tr>\n",
              "      <th>9153</th>\n",
              "      <td>6.50</td>\n",
              "    </tr>\n",
              "    <tr>\n",
              "      <th>9154</th>\n",
              "      <td>4.00</td>\n",
              "    </tr>\n",
              "    <tr>\n",
              "      <th>9155</th>\n",
              "      <td>12.00</td>\n",
              "    </tr>\n",
              "    <tr>\n",
              "      <th>9156</th>\n",
              "      <td>2.80</td>\n",
              "    </tr>\n",
              "    <tr>\n",
              "      <th>9157</th>\n",
              "      <td>9.00</td>\n",
              "    </tr>\n",
              "  </tbody>\n",
              "</table>\n",
              "<p>9158 rows × 1 columns</p>\n",
              "</div>\n",
              "    <div class=\"colab-df-buttons\">\n",
              "\n",
              "  <div class=\"colab-df-container\">\n",
              "    <button class=\"colab-df-convert\" onclick=\"convertToInteractive('df-aeb41f7a-46c6-4687-9dba-0e8ba380d4ba')\"\n",
              "            title=\"Convert this dataframe to an interactive table.\"\n",
              "            style=\"display:none;\">\n",
              "\n",
              "  <svg xmlns=\"http://www.w3.org/2000/svg\" height=\"24px\" viewBox=\"0 -960 960 960\">\n",
              "    <path d=\"M120-120v-720h720v720H120Zm60-500h600v-160H180v160Zm220 220h160v-160H400v160Zm0 220h160v-160H400v160ZM180-400h160v-160H180v160Zm440 0h160v-160H620v160ZM180-180h160v-160H180v160Zm440 0h160v-160H620v160Z\"/>\n",
              "  </svg>\n",
              "    </button>\n",
              "\n",
              "  <style>\n",
              "    .colab-df-container {\n",
              "      display:flex;\n",
              "      gap: 12px;\n",
              "    }\n",
              "\n",
              "    .colab-df-convert {\n",
              "      background-color: #E8F0FE;\n",
              "      border: none;\n",
              "      border-radius: 50%;\n",
              "      cursor: pointer;\n",
              "      display: none;\n",
              "      fill: #1967D2;\n",
              "      height: 32px;\n",
              "      padding: 0 0 0 0;\n",
              "      width: 32px;\n",
              "    }\n",
              "\n",
              "    .colab-df-convert:hover {\n",
              "      background-color: #E2EBFA;\n",
              "      box-shadow: 0px 1px 2px rgba(60, 64, 67, 0.3), 0px 1px 3px 1px rgba(60, 64, 67, 0.15);\n",
              "      fill: #174EA6;\n",
              "    }\n",
              "\n",
              "    .colab-df-buttons div {\n",
              "      margin-bottom: 4px;\n",
              "    }\n",
              "\n",
              "    [theme=dark] .colab-df-convert {\n",
              "      background-color: #3B4455;\n",
              "      fill: #D2E3FC;\n",
              "    }\n",
              "\n",
              "    [theme=dark] .colab-df-convert:hover {\n",
              "      background-color: #434B5C;\n",
              "      box-shadow: 0px 1px 3px 1px rgba(0, 0, 0, 0.15);\n",
              "      filter: drop-shadow(0px 1px 2px rgba(0, 0, 0, 0.3));\n",
              "      fill: #FFFFFF;\n",
              "    }\n",
              "  </style>\n",
              "\n",
              "    <script>\n",
              "      const buttonEl =\n",
              "        document.querySelector('#df-aeb41f7a-46c6-4687-9dba-0e8ba380d4ba button.colab-df-convert');\n",
              "      buttonEl.style.display =\n",
              "        google.colab.kernel.accessAllowed ? 'block' : 'none';\n",
              "\n",
              "      async function convertToInteractive(key) {\n",
              "        const element = document.querySelector('#df-aeb41f7a-46c6-4687-9dba-0e8ba380d4ba');\n",
              "        const dataTable =\n",
              "          await google.colab.kernel.invokeFunction('convertToInteractive',\n",
              "                                                    [key], {});\n",
              "        if (!dataTable) return;\n",
              "\n",
              "        const docLinkHtml = 'Like what you see? Visit the ' +\n",
              "          '<a target=\"_blank\" href=https://colab.research.google.com/notebooks/data_table.ipynb>data table notebook</a>'\n",
              "          + ' to learn more about interactive tables.';\n",
              "        element.innerHTML = '';\n",
              "        dataTable['output_type'] = 'display_data';\n",
              "        await google.colab.output.renderOutput(dataTable, element);\n",
              "        const docLink = document.createElement('div');\n",
              "        docLink.innerHTML = docLinkHtml;\n",
              "        element.appendChild(docLink);\n",
              "      }\n",
              "    </script>\n",
              "  </div>\n",
              "\n",
              "\n",
              "<div id=\"df-62dd7356-5f68-4fbc-a408-c38e648997c3\">\n",
              "  <button class=\"colab-df-quickchart\" onclick=\"quickchart('df-62dd7356-5f68-4fbc-a408-c38e648997c3')\"\n",
              "            title=\"Suggest charts\"\n",
              "            style=\"display:none;\">\n",
              "\n",
              "<svg xmlns=\"http://www.w3.org/2000/svg\" height=\"24px\"viewBox=\"0 0 24 24\"\n",
              "     width=\"24px\">\n",
              "    <g>\n",
              "        <path d=\"M19 3H5c-1.1 0-2 .9-2 2v14c0 1.1.9 2 2 2h14c1.1 0 2-.9 2-2V5c0-1.1-.9-2-2-2zM9 17H7v-7h2v7zm4 0h-2V7h2v10zm4 0h-2v-4h2v4z\"/>\n",
              "    </g>\n",
              "</svg>\n",
              "  </button>\n",
              "\n",
              "<style>\n",
              "  .colab-df-quickchart {\n",
              "      --bg-color: #E8F0FE;\n",
              "      --fill-color: #1967D2;\n",
              "      --hover-bg-color: #E2EBFA;\n",
              "      --hover-fill-color: #174EA6;\n",
              "      --disabled-fill-color: #AAA;\n",
              "      --disabled-bg-color: #DDD;\n",
              "  }\n",
              "\n",
              "  [theme=dark] .colab-df-quickchart {\n",
              "      --bg-color: #3B4455;\n",
              "      --fill-color: #D2E3FC;\n",
              "      --hover-bg-color: #434B5C;\n",
              "      --hover-fill-color: #FFFFFF;\n",
              "      --disabled-bg-color: #3B4455;\n",
              "      --disabled-fill-color: #666;\n",
              "  }\n",
              "\n",
              "  .colab-df-quickchart {\n",
              "    background-color: var(--bg-color);\n",
              "    border: none;\n",
              "    border-radius: 50%;\n",
              "    cursor: pointer;\n",
              "    display: none;\n",
              "    fill: var(--fill-color);\n",
              "    height: 32px;\n",
              "    padding: 0;\n",
              "    width: 32px;\n",
              "  }\n",
              "\n",
              "  .colab-df-quickchart:hover {\n",
              "    background-color: var(--hover-bg-color);\n",
              "    box-shadow: 0 1px 2px rgba(60, 64, 67, 0.3), 0 1px 3px 1px rgba(60, 64, 67, 0.15);\n",
              "    fill: var(--button-hover-fill-color);\n",
              "  }\n",
              "\n",
              "  .colab-df-quickchart-complete:disabled,\n",
              "  .colab-df-quickchart-complete:disabled:hover {\n",
              "    background-color: var(--disabled-bg-color);\n",
              "    fill: var(--disabled-fill-color);\n",
              "    box-shadow: none;\n",
              "  }\n",
              "\n",
              "  .colab-df-spinner {\n",
              "    border: 2px solid var(--fill-color);\n",
              "    border-color: transparent;\n",
              "    border-bottom-color: var(--fill-color);\n",
              "    animation:\n",
              "      spin 1s steps(1) infinite;\n",
              "  }\n",
              "\n",
              "  @keyframes spin {\n",
              "    0% {\n",
              "      border-color: transparent;\n",
              "      border-bottom-color: var(--fill-color);\n",
              "      border-left-color: var(--fill-color);\n",
              "    }\n",
              "    20% {\n",
              "      border-color: transparent;\n",
              "      border-left-color: var(--fill-color);\n",
              "      border-top-color: var(--fill-color);\n",
              "    }\n",
              "    30% {\n",
              "      border-color: transparent;\n",
              "      border-left-color: var(--fill-color);\n",
              "      border-top-color: var(--fill-color);\n",
              "      border-right-color: var(--fill-color);\n",
              "    }\n",
              "    40% {\n",
              "      border-color: transparent;\n",
              "      border-right-color: var(--fill-color);\n",
              "      border-top-color: var(--fill-color);\n",
              "    }\n",
              "    60% {\n",
              "      border-color: transparent;\n",
              "      border-right-color: var(--fill-color);\n",
              "    }\n",
              "    80% {\n",
              "      border-color: transparent;\n",
              "      border-right-color: var(--fill-color);\n",
              "      border-bottom-color: var(--fill-color);\n",
              "    }\n",
              "    90% {\n",
              "      border-color: transparent;\n",
              "      border-bottom-color: var(--fill-color);\n",
              "    }\n",
              "  }\n",
              "</style>\n",
              "\n",
              "  <script>\n",
              "    async function quickchart(key) {\n",
              "      const quickchartButtonEl =\n",
              "        document.querySelector('#' + key + ' button');\n",
              "      quickchartButtonEl.disabled = true;  // To prevent multiple clicks.\n",
              "      quickchartButtonEl.classList.add('colab-df-spinner');\n",
              "      try {\n",
              "        const charts = await google.colab.kernel.invokeFunction(\n",
              "            'suggestCharts', [key], {});\n",
              "      } catch (error) {\n",
              "        console.error('Error during call to suggestCharts:', error);\n",
              "      }\n",
              "      quickchartButtonEl.classList.remove('colab-df-spinner');\n",
              "      quickchartButtonEl.classList.add('colab-df-quickchart-complete');\n",
              "    }\n",
              "    (() => {\n",
              "      let quickchartButtonEl =\n",
              "        document.querySelector('#df-62dd7356-5f68-4fbc-a408-c38e648997c3 button');\n",
              "      quickchartButtonEl.style.display =\n",
              "        google.colab.kernel.accessAllowed ? 'block' : 'none';\n",
              "    })();\n",
              "  </script>\n",
              "</div>\n",
              "    </div>\n",
              "  </div>\n"
            ],
            "application/vnd.google.colaboratory.intrinsic+json": {
              "type": "dataframe",
              "variable_name": "footballer_target",
              "summary": "{\n  \"name\": \"footballer_target\",\n  \"rows\": 9158,\n  \"fields\": [\n    {\n      \"column\": \"Price\",\n      \"properties\": {\n        \"dtype\": \"number\",\n        \"std\": 19.323186821710394,\n        \"min\": 0.05,\n        \"max\": 200.0,\n        \"num_unique_values\": 159,\n        \"samples\": [\n          0.2,\n          3.7,\n          30.5\n        ],\n        \"semantic_type\": \"\",\n        \"description\": \"\"\n      }\n    }\n  ]\n}"
            }
          },
          "metadata": {},
          "execution_count": 6
        }
      ],
      "source": [
        "footballer_target"
      ]
    },
    {
      "cell_type": "markdown",
      "id": "a1070c85",
      "metadata": {
        "id": "a1070c85"
      },
      "source": [
        "### Neural Network Process"
      ]
    },
    {
      "cell_type": "code",
      "execution_count": null,
      "id": "Y0KkEfFRWEPR",
      "metadata": {
        "colab": {
          "base_uri": "https://localhost:8080/"
        },
        "id": "Y0KkEfFRWEPR",
        "outputId": "818e88ce-51a1-4df4-edda-c7865cb10c07"
      },
      "outputs": [
        {
          "output_type": "stream",
          "name": "stdout",
          "text": [
            "Requirement already satisfied: keras in /usr/local/lib/python3.10/dist-packages (2.15.0)\n"
          ]
        }
      ],
      "source": [
        "!pip install keras"
      ]
    },
    {
      "cell_type": "code",
      "execution_count": null,
      "id": "58794918",
      "metadata": {
        "id": "58794918"
      },
      "outputs": [],
      "source": [
        "from keras.models import Sequential\n",
        "from keras.layers import Dense\n",
        "# from keras.wrappers.scikit_learn import KerasRegressor\n",
        "from sklearn.model_selection import cross_val_score\n",
        "from sklearn.model_selection import KFold\n",
        "from sklearn.pipeline import Pipeline\n",
        "from sklearn.model_selection import train_test_split\n",
        "from keras import optimizers"
      ]
    },
    {
      "cell_type": "code",
      "execution_count": null,
      "id": "eed32927",
      "metadata": {
        "id": "eed32927"
      },
      "outputs": [],
      "source": [
        "X_train, X_test, y_train, y_test = train_test_split(footballer_input, footballer_target, test_size=0.3, random_state=42)"
      ]
    },
    {
      "cell_type": "code",
      "execution_count": null,
      "id": "122c5ee9",
      "metadata": {
        "id": "122c5ee9"
      },
      "outputs": [],
      "source": [
        "indices_25 = np.where(y_test <= 3 )[0]\n",
        "indices_50 = np.where((y_test > 3) & (y_test <= 8))[0]\n",
        "indices_75 = np.where((y_test > 8) & (y_test <= 20))[0]\n",
        "indices_100 = np.where(y_test >20 )[0]\n",
        "\n",
        "# Filter X_test and y_test based on the indices\n",
        "X_test_25 = X_test.iloc[indices_25]\n",
        "y_test_25 = y_test.iloc[indices_25]\n",
        "\n",
        "X_test_50 = X_test.iloc[indices_50]\n",
        "y_test_50 = y_test.iloc[indices_50]\n",
        "\n",
        "X_test_75 = X_test.iloc[indices_75]\n",
        "y_test_75 = y_test.iloc[indices_75]\n",
        "\n",
        "X_test_100 = X_test.iloc[indices_100]\n",
        "y_test_100 = y_test.iloc[indices_100]"
      ]
    },
    {
      "cell_type": "code",
      "execution_count": null,
      "id": "e9e48a97",
      "metadata": {
        "colab": {
          "base_uri": "https://localhost:8080/",
          "height": 423
        },
        "id": "e9e48a97",
        "outputId": "6ee4d2a1-844c-4eb3-a410-ed165ad9f86f"
      },
      "outputs": [
        {
          "output_type": "execute_result",
          "data": {
            "text/plain": [
              "      Price\n",
              "8611   18.0\n",
              "1406   15.0\n",
              "5457   12.0\n",
              "1156   14.0\n",
              "1057   15.0\n",
              "...     ...\n",
              "4712   12.0\n",
              "1677   18.0\n",
              "2952    9.5\n",
              "6848   14.0\n",
              "6911   18.0\n",
              "\n",
              "[725 rows x 1 columns]"
            ],
            "text/html": [
              "\n",
              "  <div id=\"df-c71ba54e-c657-4f55-975c-66357cf49b37\" class=\"colab-df-container\">\n",
              "    <div>\n",
              "<style scoped>\n",
              "    .dataframe tbody tr th:only-of-type {\n",
              "        vertical-align: middle;\n",
              "    }\n",
              "\n",
              "    .dataframe tbody tr th {\n",
              "        vertical-align: top;\n",
              "    }\n",
              "\n",
              "    .dataframe thead th {\n",
              "        text-align: right;\n",
              "    }\n",
              "</style>\n",
              "<table border=\"1\" class=\"dataframe\">\n",
              "  <thead>\n",
              "    <tr style=\"text-align: right;\">\n",
              "      <th></th>\n",
              "      <th>Price</th>\n",
              "    </tr>\n",
              "  </thead>\n",
              "  <tbody>\n",
              "    <tr>\n",
              "      <th>8611</th>\n",
              "      <td>18.0</td>\n",
              "    </tr>\n",
              "    <tr>\n",
              "      <th>1406</th>\n",
              "      <td>15.0</td>\n",
              "    </tr>\n",
              "    <tr>\n",
              "      <th>5457</th>\n",
              "      <td>12.0</td>\n",
              "    </tr>\n",
              "    <tr>\n",
              "      <th>1156</th>\n",
              "      <td>14.0</td>\n",
              "    </tr>\n",
              "    <tr>\n",
              "      <th>1057</th>\n",
              "      <td>15.0</td>\n",
              "    </tr>\n",
              "    <tr>\n",
              "      <th>...</th>\n",
              "      <td>...</td>\n",
              "    </tr>\n",
              "    <tr>\n",
              "      <th>4712</th>\n",
              "      <td>12.0</td>\n",
              "    </tr>\n",
              "    <tr>\n",
              "      <th>1677</th>\n",
              "      <td>18.0</td>\n",
              "    </tr>\n",
              "    <tr>\n",
              "      <th>2952</th>\n",
              "      <td>9.5</td>\n",
              "    </tr>\n",
              "    <tr>\n",
              "      <th>6848</th>\n",
              "      <td>14.0</td>\n",
              "    </tr>\n",
              "    <tr>\n",
              "      <th>6911</th>\n",
              "      <td>18.0</td>\n",
              "    </tr>\n",
              "  </tbody>\n",
              "</table>\n",
              "<p>725 rows × 1 columns</p>\n",
              "</div>\n",
              "    <div class=\"colab-df-buttons\">\n",
              "\n",
              "  <div class=\"colab-df-container\">\n",
              "    <button class=\"colab-df-convert\" onclick=\"convertToInteractive('df-c71ba54e-c657-4f55-975c-66357cf49b37')\"\n",
              "            title=\"Convert this dataframe to an interactive table.\"\n",
              "            style=\"display:none;\">\n",
              "\n",
              "  <svg xmlns=\"http://www.w3.org/2000/svg\" height=\"24px\" viewBox=\"0 -960 960 960\">\n",
              "    <path d=\"M120-120v-720h720v720H120Zm60-500h600v-160H180v160Zm220 220h160v-160H400v160Zm0 220h160v-160H400v160ZM180-400h160v-160H180v160Zm440 0h160v-160H620v160ZM180-180h160v-160H180v160Zm440 0h160v-160H620v160Z\"/>\n",
              "  </svg>\n",
              "    </button>\n",
              "\n",
              "  <style>\n",
              "    .colab-df-container {\n",
              "      display:flex;\n",
              "      gap: 12px;\n",
              "    }\n",
              "\n",
              "    .colab-df-convert {\n",
              "      background-color: #E8F0FE;\n",
              "      border: none;\n",
              "      border-radius: 50%;\n",
              "      cursor: pointer;\n",
              "      display: none;\n",
              "      fill: #1967D2;\n",
              "      height: 32px;\n",
              "      padding: 0 0 0 0;\n",
              "      width: 32px;\n",
              "    }\n",
              "\n",
              "    .colab-df-convert:hover {\n",
              "      background-color: #E2EBFA;\n",
              "      box-shadow: 0px 1px 2px rgba(60, 64, 67, 0.3), 0px 1px 3px 1px rgba(60, 64, 67, 0.15);\n",
              "      fill: #174EA6;\n",
              "    }\n",
              "\n",
              "    .colab-df-buttons div {\n",
              "      margin-bottom: 4px;\n",
              "    }\n",
              "\n",
              "    [theme=dark] .colab-df-convert {\n",
              "      background-color: #3B4455;\n",
              "      fill: #D2E3FC;\n",
              "    }\n",
              "\n",
              "    [theme=dark] .colab-df-convert:hover {\n",
              "      background-color: #434B5C;\n",
              "      box-shadow: 0px 1px 3px 1px rgba(0, 0, 0, 0.15);\n",
              "      filter: drop-shadow(0px 1px 2px rgba(0, 0, 0, 0.3));\n",
              "      fill: #FFFFFF;\n",
              "    }\n",
              "  </style>\n",
              "\n",
              "    <script>\n",
              "      const buttonEl =\n",
              "        document.querySelector('#df-c71ba54e-c657-4f55-975c-66357cf49b37 button.colab-df-convert');\n",
              "      buttonEl.style.display =\n",
              "        google.colab.kernel.accessAllowed ? 'block' : 'none';\n",
              "\n",
              "      async function convertToInteractive(key) {\n",
              "        const element = document.querySelector('#df-c71ba54e-c657-4f55-975c-66357cf49b37');\n",
              "        const dataTable =\n",
              "          await google.colab.kernel.invokeFunction('convertToInteractive',\n",
              "                                                    [key], {});\n",
              "        if (!dataTable) return;\n",
              "\n",
              "        const docLinkHtml = 'Like what you see? Visit the ' +\n",
              "          '<a target=\"_blank\" href=https://colab.research.google.com/notebooks/data_table.ipynb>data table notebook</a>'\n",
              "          + ' to learn more about interactive tables.';\n",
              "        element.innerHTML = '';\n",
              "        dataTable['output_type'] = 'display_data';\n",
              "        await google.colab.output.renderOutput(dataTable, element);\n",
              "        const docLink = document.createElement('div');\n",
              "        docLink.innerHTML = docLinkHtml;\n",
              "        element.appendChild(docLink);\n",
              "      }\n",
              "    </script>\n",
              "  </div>\n",
              "\n",
              "\n",
              "<div id=\"df-4efc05c2-c0c9-4f19-a184-62f26c705e9e\">\n",
              "  <button class=\"colab-df-quickchart\" onclick=\"quickchart('df-4efc05c2-c0c9-4f19-a184-62f26c705e9e')\"\n",
              "            title=\"Suggest charts\"\n",
              "            style=\"display:none;\">\n",
              "\n",
              "<svg xmlns=\"http://www.w3.org/2000/svg\" height=\"24px\"viewBox=\"0 0 24 24\"\n",
              "     width=\"24px\">\n",
              "    <g>\n",
              "        <path d=\"M19 3H5c-1.1 0-2 .9-2 2v14c0 1.1.9 2 2 2h14c1.1 0 2-.9 2-2V5c0-1.1-.9-2-2-2zM9 17H7v-7h2v7zm4 0h-2V7h2v10zm4 0h-2v-4h2v4z\"/>\n",
              "    </g>\n",
              "</svg>\n",
              "  </button>\n",
              "\n",
              "<style>\n",
              "  .colab-df-quickchart {\n",
              "      --bg-color: #E8F0FE;\n",
              "      --fill-color: #1967D2;\n",
              "      --hover-bg-color: #E2EBFA;\n",
              "      --hover-fill-color: #174EA6;\n",
              "      --disabled-fill-color: #AAA;\n",
              "      --disabled-bg-color: #DDD;\n",
              "  }\n",
              "\n",
              "  [theme=dark] .colab-df-quickchart {\n",
              "      --bg-color: #3B4455;\n",
              "      --fill-color: #D2E3FC;\n",
              "      --hover-bg-color: #434B5C;\n",
              "      --hover-fill-color: #FFFFFF;\n",
              "      --disabled-bg-color: #3B4455;\n",
              "      --disabled-fill-color: #666;\n",
              "  }\n",
              "\n",
              "  .colab-df-quickchart {\n",
              "    background-color: var(--bg-color);\n",
              "    border: none;\n",
              "    border-radius: 50%;\n",
              "    cursor: pointer;\n",
              "    display: none;\n",
              "    fill: var(--fill-color);\n",
              "    height: 32px;\n",
              "    padding: 0;\n",
              "    width: 32px;\n",
              "  }\n",
              "\n",
              "  .colab-df-quickchart:hover {\n",
              "    background-color: var(--hover-bg-color);\n",
              "    box-shadow: 0 1px 2px rgba(60, 64, 67, 0.3), 0 1px 3px 1px rgba(60, 64, 67, 0.15);\n",
              "    fill: var(--button-hover-fill-color);\n",
              "  }\n",
              "\n",
              "  .colab-df-quickchart-complete:disabled,\n",
              "  .colab-df-quickchart-complete:disabled:hover {\n",
              "    background-color: var(--disabled-bg-color);\n",
              "    fill: var(--disabled-fill-color);\n",
              "    box-shadow: none;\n",
              "  }\n",
              "\n",
              "  .colab-df-spinner {\n",
              "    border: 2px solid var(--fill-color);\n",
              "    border-color: transparent;\n",
              "    border-bottom-color: var(--fill-color);\n",
              "    animation:\n",
              "      spin 1s steps(1) infinite;\n",
              "  }\n",
              "\n",
              "  @keyframes spin {\n",
              "    0% {\n",
              "      border-color: transparent;\n",
              "      border-bottom-color: var(--fill-color);\n",
              "      border-left-color: var(--fill-color);\n",
              "    }\n",
              "    20% {\n",
              "      border-color: transparent;\n",
              "      border-left-color: var(--fill-color);\n",
              "      border-top-color: var(--fill-color);\n",
              "    }\n",
              "    30% {\n",
              "      border-color: transparent;\n",
              "      border-left-color: var(--fill-color);\n",
              "      border-top-color: var(--fill-color);\n",
              "      border-right-color: var(--fill-color);\n",
              "    }\n",
              "    40% {\n",
              "      border-color: transparent;\n",
              "      border-right-color: var(--fill-color);\n",
              "      border-top-color: var(--fill-color);\n",
              "    }\n",
              "    60% {\n",
              "      border-color: transparent;\n",
              "      border-right-color: var(--fill-color);\n",
              "    }\n",
              "    80% {\n",
              "      border-color: transparent;\n",
              "      border-right-color: var(--fill-color);\n",
              "      border-bottom-color: var(--fill-color);\n",
              "    }\n",
              "    90% {\n",
              "      border-color: transparent;\n",
              "      border-bottom-color: var(--fill-color);\n",
              "    }\n",
              "  }\n",
              "</style>\n",
              "\n",
              "  <script>\n",
              "    async function quickchart(key) {\n",
              "      const quickchartButtonEl =\n",
              "        document.querySelector('#' + key + ' button');\n",
              "      quickchartButtonEl.disabled = true;  // To prevent multiple clicks.\n",
              "      quickchartButtonEl.classList.add('colab-df-spinner');\n",
              "      try {\n",
              "        const charts = await google.colab.kernel.invokeFunction(\n",
              "            'suggestCharts', [key], {});\n",
              "      } catch (error) {\n",
              "        console.error('Error during call to suggestCharts:', error);\n",
              "      }\n",
              "      quickchartButtonEl.classList.remove('colab-df-spinner');\n",
              "      quickchartButtonEl.classList.add('colab-df-quickchart-complete');\n",
              "    }\n",
              "    (() => {\n",
              "      let quickchartButtonEl =\n",
              "        document.querySelector('#df-4efc05c2-c0c9-4f19-a184-62f26c705e9e button');\n",
              "      quickchartButtonEl.style.display =\n",
              "        google.colab.kernel.accessAllowed ? 'block' : 'none';\n",
              "    })();\n",
              "  </script>\n",
              "</div>\n",
              "    </div>\n",
              "  </div>\n"
            ],
            "application/vnd.google.colaboratory.intrinsic+json": {
              "type": "dataframe",
              "variable_name": "y_test_75",
              "summary": "{\n  \"name\": \"y_test_75\",\n  \"rows\": 725,\n  \"fields\": [\n    {\n      \"column\": \"Price\",\n      \"properties\": {\n        \"dtype\": \"number\",\n        \"std\": 3.5514369380059763,\n        \"min\": 8.5,\n        \"max\": 20.0,\n        \"num_unique_values\": 21,\n        \"samples\": [\n          18.0,\n          15.5,\n          8.5\n        ],\n        \"semantic_type\": \"\",\n        \"description\": \"\"\n      }\n    }\n  ]\n}"
            }
          },
          "metadata": {},
          "execution_count": 11
        }
      ],
      "source": [
        "y_test_75"
      ]
    },
    {
      "cell_type": "code",
      "execution_count": null,
      "id": "FSUo70opItpq",
      "metadata": {
        "id": "FSUo70opItpq"
      },
      "outputs": [],
      "source": [
        "from keras.regularizers import l1\n",
        "from keras import regularizers"
      ]
    },
    {
      "cell_type": "code",
      "execution_count": null,
      "id": "83b4f6a3",
      "metadata": {
        "id": "83b4f6a3"
      },
      "outputs": [],
      "source": [
        "#input value\n",
        "model = Sequential()\n",
        "model.add(Dense(41, input_dim = 41, activation = 'relu'))\n",
        "model.add(Dense(20, activation = 'relu',kernel_regularizer=regularizers.L1(0.001)))\n",
        "model.add(Dense(10, activation = 'relu',kernel_regularizer=regularizers.L1(0.001)))\n",
        "model.add(Dense(5, activation = 'relu',kernel_regularizer=regularizers.L1(0.001)))\n"
      ]
    },
    {
      "cell_type": "code",
      "execution_count": null,
      "id": "747109dd",
      "metadata": {
        "id": "747109dd"
      },
      "outputs": [],
      "source": [
        "#output value\n",
        "model.add(Dense(1, activation = 'relu'))"
      ]
    },
    {
      "cell_type": "code",
      "execution_count": null,
      "id": "88e24edf",
      "metadata": {
        "colab": {
          "base_uri": "https://localhost:8080/"
        },
        "id": "88e24edf",
        "outputId": "ec6539c6-7e21-4218-aae3-faab16bb8ea3"
      },
      "outputs": [
        {
          "output_type": "stream",
          "name": "stderr",
          "text": [
            "WARNING:absl:`lr` is deprecated in Keras optimizer, please use `learning_rate` or use the legacy optimizer, e.g.,tf.keras.optimizers.legacy.Adam.\n"
          ]
        }
      ],
      "source": [
        "optimizer = optimizers.Adam(lr=0.005)"
      ]
    },
    {
      "cell_type": "code",
      "execution_count": null,
      "id": "5f101780",
      "metadata": {
        "colab": {
          "base_uri": "https://localhost:8080/"
        },
        "id": "5f101780",
        "outputId": "44422c4b-097b-47a1-a518-88cd5ab2134a"
      },
      "outputs": [
        {
          "output_type": "stream",
          "name": "stdout",
          "text": [
            "Model: \"sequential\"\n",
            "_________________________________________________________________\n",
            " Layer (type)                Output Shape              Param #   \n",
            "=================================================================\n",
            " dense (Dense)               (None, 41)                1722      \n",
            "                                                                 \n",
            " dense_1 (Dense)             (None, 20)                840       \n",
            "                                                                 \n",
            " dense_2 (Dense)             (None, 10)                210       \n",
            "                                                                 \n",
            " dense_3 (Dense)             (None, 5)                 55        \n",
            "                                                                 \n",
            " dense_4 (Dense)             (None, 1)                 6         \n",
            "                                                                 \n",
            "=================================================================\n",
            "Total params: 2833 (11.07 KB)\n",
            "Trainable params: 2833 (11.07 KB)\n",
            "Non-trainable params: 0 (0.00 Byte)\n",
            "_________________________________________________________________\n"
          ]
        }
      ],
      "source": [
        "model.compile(loss = 'mean_squared_error', optimizer = optimizer, metrics = ['mae'])\n",
        "model.summary()"
      ]
    },
    {
      "cell_type": "markdown",
      "id": "7d01831f",
      "metadata": {
        "id": "7d01831f"
      },
      "source": [
        "### model.summary()"
      ]
    },
    {
      "cell_type": "code",
      "execution_count": null,
      "id": "cc6afa6d",
      "metadata": {
        "colab": {
          "base_uri": "https://localhost:8080/"
        },
        "id": "cc6afa6d",
        "outputId": "1b8411c7-9419-4b0c-866c-bf4e157e5632"
      },
      "outputs": [
        {
          "output_type": "stream",
          "name": "stdout",
          "text": [
            "Epoch 1/150\n",
            "161/161 [==============================] - 3s 9ms/step - loss: 268.4182 - mae: 10.2002 - val_loss: 232.5091 - val_mae: 9.0086\n",
            "Epoch 2/150\n",
            "161/161 [==============================] - 1s 4ms/step - loss: 203.9349 - mae: 8.9667 - val_loss: 203.9054 - val_mae: 8.5830\n",
            "Epoch 3/150\n",
            "161/161 [==============================] - 1s 4ms/step - loss: 185.0151 - mae: 8.4687 - val_loss: 188.0905 - val_mae: 8.5540\n",
            "Epoch 4/150\n",
            "161/161 [==============================] - 1s 4ms/step - loss: 170.4081 - mae: 8.0687 - val_loss: 172.4102 - val_mae: 7.7851\n",
            "Epoch 5/150\n",
            "161/161 [==============================] - 1s 6ms/step - loss: 158.5997 - mae: 7.6761 - val_loss: 171.3311 - val_mae: 7.2505\n",
            "Epoch 6/150\n",
            "161/161 [==============================] - 1s 5ms/step - loss: 152.1441 - mae: 7.4630 - val_loss: 157.0077 - val_mae: 7.1568\n",
            "Epoch 7/150\n",
            "161/161 [==============================] - 1s 6ms/step - loss: 146.5158 - mae: 7.3581 - val_loss: 153.2950 - val_mae: 6.9388\n",
            "Epoch 8/150\n",
            "161/161 [==============================] - 1s 5ms/step - loss: 140.7791 - mae: 7.1229 - val_loss: 153.5690 - val_mae: 6.7954\n",
            "Epoch 9/150\n",
            "161/161 [==============================] - 1s 5ms/step - loss: 136.2922 - mae: 7.0359 - val_loss: 147.2477 - val_mae: 6.8092\n",
            "Epoch 10/150\n",
            "161/161 [==============================] - 1s 6ms/step - loss: 131.0573 - mae: 6.9269 - val_loss: 152.8744 - val_mae: 7.6215\n",
            "Epoch 11/150\n",
            "161/161 [==============================] - 1s 5ms/step - loss: 130.9778 - mae: 6.9352 - val_loss: 143.7160 - val_mae: 6.7062\n",
            "Epoch 12/150\n",
            "161/161 [==============================] - 1s 6ms/step - loss: 124.4426 - mae: 6.7696 - val_loss: 137.3453 - val_mae: 6.6156\n",
            "Epoch 13/150\n",
            "161/161 [==============================] - 1s 7ms/step - loss: 120.7618 - mae: 6.6343 - val_loss: 133.0789 - val_mae: 6.7506\n",
            "Epoch 14/150\n",
            "161/161 [==============================] - 2s 10ms/step - loss: 118.8190 - mae: 6.6008 - val_loss: 130.4922 - val_mae: 6.6336\n",
            "Epoch 15/150\n",
            "161/161 [==============================] - 1s 8ms/step - loss: 113.4357 - mae: 6.4433 - val_loss: 149.6856 - val_mae: 7.3769\n",
            "Epoch 16/150\n",
            "161/161 [==============================] - 1s 9ms/step - loss: 110.4977 - mae: 6.3985 - val_loss: 133.5748 - val_mae: 7.2095\n",
            "Epoch 17/150\n",
            "161/161 [==============================] - 1s 6ms/step - loss: 109.5865 - mae: 6.3896 - val_loss: 123.3975 - val_mae: 6.2045\n",
            "Epoch 18/150\n",
            "161/161 [==============================] - 1s 6ms/step - loss: 106.9333 - mae: 6.2736 - val_loss: 125.7240 - val_mae: 6.5969\n",
            "Epoch 19/150\n",
            "161/161 [==============================] - 1s 6ms/step - loss: 105.1541 - mae: 6.2962 - val_loss: 128.2066 - val_mae: 7.1293\n",
            "Epoch 20/150\n",
            "161/161 [==============================] - 1s 6ms/step - loss: 107.0288 - mae: 6.3226 - val_loss: 133.0902 - val_mae: 6.2781\n",
            "Epoch 21/150\n",
            "161/161 [==============================] - 2s 9ms/step - loss: 103.6728 - mae: 6.2587 - val_loss: 118.6188 - val_mae: 6.1391\n",
            "Epoch 22/150\n",
            "161/161 [==============================] - 1s 6ms/step - loss: 101.3862 - mae: 6.1813 - val_loss: 122.3789 - val_mae: 6.7694\n",
            "Epoch 23/150\n",
            "161/161 [==============================] - 1s 7ms/step - loss: 100.1667 - mae: 6.1767 - val_loss: 136.8156 - val_mae: 7.3666\n",
            "Epoch 24/150\n",
            "161/161 [==============================] - 1s 5ms/step - loss: 97.9682 - mae: 6.0890 - val_loss: 119.6051 - val_mae: 6.4063\n",
            "Epoch 25/150\n",
            "161/161 [==============================] - 1s 6ms/step - loss: 97.2209 - mae: 6.0469 - val_loss: 127.8551 - val_mae: 6.8657\n",
            "Epoch 26/150\n",
            "161/161 [==============================] - 1s 5ms/step - loss: 95.9817 - mae: 6.0687 - val_loss: 115.5656 - val_mae: 5.9956\n",
            "Epoch 27/150\n",
            "161/161 [==============================] - 2s 12ms/step - loss: 96.8111 - mae: 6.0584 - val_loss: 116.2603 - val_mae: 6.0240\n",
            "Epoch 28/150\n",
            "161/161 [==============================] - 1s 9ms/step - loss: 94.2982 - mae: 5.9845 - val_loss: 122.0741 - val_mae: 6.0320\n",
            "Epoch 29/150\n",
            "161/161 [==============================] - 1s 9ms/step - loss: 96.7275 - mae: 6.0829 - val_loss: 125.3179 - val_mae: 6.5502\n",
            "Epoch 30/150\n",
            "161/161 [==============================] - 2s 11ms/step - loss: 93.8376 - mae: 6.0041 - val_loss: 126.4457 - val_mae: 6.9539\n",
            "Epoch 31/150\n",
            "161/161 [==============================] - 1s 9ms/step - loss: 94.0582 - mae: 6.0032 - val_loss: 117.6629 - val_mae: 6.2724\n",
            "Epoch 32/150\n",
            "161/161 [==============================] - 1s 8ms/step - loss: 93.6707 - mae: 6.0401 - val_loss: 114.8038 - val_mae: 5.8618\n",
            "Epoch 33/150\n",
            "161/161 [==============================] - 1s 8ms/step - loss: 90.3657 - mae: 5.8701 - val_loss: 124.9684 - val_mae: 7.0159\n",
            "Epoch 34/150\n",
            "161/161 [==============================] - 1s 7ms/step - loss: 91.1124 - mae: 5.9326 - val_loss: 121.6436 - val_mae: 6.3389\n",
            "Epoch 35/150\n",
            "161/161 [==============================] - 1s 9ms/step - loss: 88.7142 - mae: 5.8193 - val_loss: 115.0065 - val_mae: 5.8920\n",
            "Epoch 36/150\n",
            "161/161 [==============================] - 2s 10ms/step - loss: 91.4415 - mae: 5.9288 - val_loss: 116.8423 - val_mae: 6.1968\n",
            "Epoch 37/150\n",
            "161/161 [==============================] - 1s 7ms/step - loss: 88.4504 - mae: 5.8345 - val_loss: 113.8216 - val_mae: 5.8432\n",
            "Epoch 38/150\n",
            "161/161 [==============================] - 1s 4ms/step - loss: 88.9529 - mae: 5.8568 - val_loss: 113.7218 - val_mae: 5.8063\n",
            "Epoch 39/150\n",
            "161/161 [==============================] - 1s 4ms/step - loss: 87.0589 - mae: 5.8485 - val_loss: 112.3771 - val_mae: 5.9863\n",
            "Epoch 40/150\n",
            "161/161 [==============================] - 1s 5ms/step - loss: 90.5027 - mae: 5.9122 - val_loss: 110.7870 - val_mae: 6.2065\n",
            "Epoch 41/150\n",
            "161/161 [==============================] - 1s 3ms/step - loss: 86.8838 - mae: 5.8263 - val_loss: 124.1784 - val_mae: 6.0231\n",
            "Epoch 42/150\n",
            "161/161 [==============================] - 0s 3ms/step - loss: 86.0865 - mae: 5.7872 - val_loss: 120.6570 - val_mae: 6.3442\n",
            "Epoch 43/150\n",
            "161/161 [==============================] - 0s 3ms/step - loss: 85.4456 - mae: 5.7296 - val_loss: 114.9498 - val_mae: 6.2788\n",
            "Epoch 44/150\n",
            "161/161 [==============================] - 0s 3ms/step - loss: 84.9741 - mae: 5.7446 - val_loss: 117.8577 - val_mae: 6.2149\n",
            "Epoch 45/150\n",
            "161/161 [==============================] - 0s 3ms/step - loss: 86.8250 - mae: 5.7738 - val_loss: 114.9499 - val_mae: 6.5115\n",
            "Epoch 46/150\n",
            "161/161 [==============================] - 0s 3ms/step - loss: 84.3825 - mae: 5.7069 - val_loss: 109.9513 - val_mae: 5.7643\n",
            "Epoch 47/150\n",
            "161/161 [==============================] - 0s 3ms/step - loss: 83.3287 - mae: 5.6645 - val_loss: 112.5803 - val_mae: 6.5883\n",
            "Epoch 48/150\n",
            "161/161 [==============================] - 0s 2ms/step - loss: 83.2593 - mae: 5.7113 - val_loss: 107.8242 - val_mae: 5.8994\n",
            "Epoch 49/150\n",
            "161/161 [==============================] - 0s 2ms/step - loss: 83.6582 - mae: 5.7240 - val_loss: 109.8309 - val_mae: 5.8023\n",
            "Epoch 50/150\n",
            "161/161 [==============================] - 0s 3ms/step - loss: 83.8233 - mae: 5.7044 - val_loss: 126.1131 - val_mae: 6.1146\n",
            "Epoch 51/150\n",
            "161/161 [==============================] - 0s 3ms/step - loss: 87.3146 - mae: 5.7954 - val_loss: 110.1775 - val_mae: 5.9902\n",
            "Epoch 52/150\n",
            "161/161 [==============================] - 0s 3ms/step - loss: 84.5757 - mae: 5.7219 - val_loss: 118.1844 - val_mae: 6.3927\n",
            "Epoch 53/150\n",
            "161/161 [==============================] - 0s 2ms/step - loss: 81.6817 - mae: 5.6249 - val_loss: 107.3359 - val_mae: 5.8841\n",
            "Epoch 54/150\n",
            "161/161 [==============================] - 0s 3ms/step - loss: 80.4555 - mae: 5.5698 - val_loss: 108.1103 - val_mae: 5.8811\n",
            "Epoch 55/150\n",
            "161/161 [==============================] - 0s 3ms/step - loss: 81.7882 - mae: 5.6496 - val_loss: 112.5628 - val_mae: 5.9978\n",
            "Epoch 56/150\n",
            "161/161 [==============================] - 0s 3ms/step - loss: 82.7960 - mae: 5.6502 - val_loss: 113.1427 - val_mae: 6.1534\n",
            "Epoch 57/150\n",
            "161/161 [==============================] - 0s 3ms/step - loss: 79.9226 - mae: 5.6002 - val_loss: 108.4334 - val_mae: 5.9896\n",
            "Epoch 58/150\n",
            "161/161 [==============================] - 0s 3ms/step - loss: 81.3096 - mae: 5.6216 - val_loss: 122.7024 - val_mae: 5.9982\n",
            "Epoch 59/150\n",
            "161/161 [==============================] - 0s 2ms/step - loss: 82.7977 - mae: 5.6762 - val_loss: 112.0793 - val_mae: 5.9513\n",
            "Epoch 60/150\n",
            "161/161 [==============================] - 0s 3ms/step - loss: 81.1305 - mae: 5.6486 - val_loss: 117.3638 - val_mae: 5.9971\n",
            "Epoch 61/150\n",
            "161/161 [==============================] - 0s 3ms/step - loss: 78.7773 - mae: 5.5898 - val_loss: 107.9404 - val_mae: 5.7465\n",
            "Epoch 62/150\n",
            "161/161 [==============================] - 0s 3ms/step - loss: 79.4938 - mae: 5.5812 - val_loss: 107.1586 - val_mae: 5.9886\n",
            "Epoch 63/150\n",
            "161/161 [==============================] - 0s 2ms/step - loss: 78.2515 - mae: 5.5243 - val_loss: 114.9948 - val_mae: 5.8595\n",
            "Epoch 64/150\n",
            "161/161 [==============================] - 0s 3ms/step - loss: 79.9532 - mae: 5.5852 - val_loss: 116.6230 - val_mae: 6.6890\n",
            "Epoch 65/150\n",
            "161/161 [==============================] - 1s 5ms/step - loss: 79.7286 - mae: 5.6424 - val_loss: 109.7259 - val_mae: 5.9368\n",
            "Epoch 66/150\n",
            "161/161 [==============================] - 1s 4ms/step - loss: 77.4649 - mae: 5.4864 - val_loss: 109.8087 - val_mae: 5.8930\n",
            "Epoch 67/150\n",
            "161/161 [==============================] - 1s 5ms/step - loss: 78.4249 - mae: 5.5715 - val_loss: 113.2462 - val_mae: 5.8881\n",
            "Epoch 68/150\n",
            "161/161 [==============================] - 1s 5ms/step - loss: 76.5502 - mae: 5.5177 - val_loss: 109.9853 - val_mae: 5.9083\n",
            "Epoch 69/150\n",
            "161/161 [==============================] - 1s 4ms/step - loss: 78.9908 - mae: 5.5661 - val_loss: 107.3971 - val_mae: 5.9515\n",
            "Epoch 70/150\n",
            "161/161 [==============================] - 0s 3ms/step - loss: 77.6380 - mae: 5.5381 - val_loss: 106.0502 - val_mae: 5.7197\n",
            "Epoch 71/150\n",
            "161/161 [==============================] - 0s 3ms/step - loss: 78.0740 - mae: 5.5562 - val_loss: 113.2952 - val_mae: 5.9755\n",
            "Epoch 72/150\n",
            "161/161 [==============================] - 0s 3ms/step - loss: 77.0901 - mae: 5.5315 - val_loss: 110.0734 - val_mae: 6.1961\n",
            "Epoch 73/150\n",
            "161/161 [==============================] - 0s 3ms/step - loss: 74.8311 - mae: 5.4411 - val_loss: 108.7948 - val_mae: 6.0298\n",
            "Epoch 74/150\n",
            "161/161 [==============================] - 0s 3ms/step - loss: 80.2790 - mae: 5.6080 - val_loss: 120.7260 - val_mae: 6.6990\n",
            "Epoch 75/150\n",
            "161/161 [==============================] - 0s 3ms/step - loss: 76.7777 - mae: 5.5308 - val_loss: 108.8398 - val_mae: 6.1460\n",
            "Epoch 76/150\n",
            "161/161 [==============================] - 0s 3ms/step - loss: 75.5549 - mae: 5.4221 - val_loss: 114.8443 - val_mae: 6.2723\n",
            "Epoch 77/150\n",
            "161/161 [==============================] - 0s 3ms/step - loss: 76.4140 - mae: 5.5184 - val_loss: 112.7696 - val_mae: 5.8378\n",
            "Epoch 78/150\n",
            "161/161 [==============================] - 0s 3ms/step - loss: 76.0019 - mae: 5.4745 - val_loss: 111.6613 - val_mae: 6.0538\n",
            "Epoch 79/150\n",
            "161/161 [==============================] - 0s 3ms/step - loss: 75.4283 - mae: 5.4644 - val_loss: 106.0513 - val_mae: 5.8106\n",
            "Epoch 80/150\n",
            "161/161 [==============================] - 1s 3ms/step - loss: 74.2288 - mae: 5.4516 - val_loss: 110.9557 - val_mae: 6.0537\n",
            "Epoch 81/150\n",
            "161/161 [==============================] - 0s 3ms/step - loss: 74.7179 - mae: 5.4502 - val_loss: 105.8521 - val_mae: 5.8982\n",
            "Epoch 82/150\n",
            "161/161 [==============================] - 0s 3ms/step - loss: 73.1651 - mae: 5.4259 - val_loss: 108.5798 - val_mae: 5.8915\n",
            "Epoch 83/150\n",
            "161/161 [==============================] - 0s 3ms/step - loss: 72.4186 - mae: 5.3851 - val_loss: 111.2916 - val_mae: 5.8719\n",
            "Epoch 84/150\n",
            "161/161 [==============================] - 0s 3ms/step - loss: 74.5827 - mae: 5.4414 - val_loss: 112.2764 - val_mae: 6.3581\n",
            "Epoch 85/150\n",
            "161/161 [==============================] - 0s 3ms/step - loss: 73.1776 - mae: 5.4292 - val_loss: 110.0036 - val_mae: 5.8558\n",
            "Epoch 86/150\n",
            "161/161 [==============================] - 0s 3ms/step - loss: 73.4710 - mae: 5.4261 - val_loss: 110.1554 - val_mae: 6.2218\n",
            "Epoch 87/150\n",
            "161/161 [==============================] - 0s 3ms/step - loss: 72.9984 - mae: 5.3885 - val_loss: 108.8775 - val_mae: 5.8096\n",
            "Epoch 88/150\n",
            "161/161 [==============================] - 0s 3ms/step - loss: 70.4722 - mae: 5.3259 - val_loss: 105.8295 - val_mae: 5.9492\n",
            "Epoch 89/150\n",
            "161/161 [==============================] - 0s 3ms/step - loss: 71.7400 - mae: 5.3983 - val_loss: 115.0210 - val_mae: 6.1246\n",
            "Epoch 90/150\n",
            "161/161 [==============================] - 0s 3ms/step - loss: 73.0120 - mae: 5.3902 - val_loss: 109.0946 - val_mae: 5.8696\n",
            "Epoch 91/150\n",
            "161/161 [==============================] - 0s 3ms/step - loss: 72.7176 - mae: 5.4199 - val_loss: 122.4043 - val_mae: 6.3743\n",
            "Epoch 92/150\n",
            "161/161 [==============================] - 1s 4ms/step - loss: 72.3510 - mae: 5.3753 - val_loss: 107.7044 - val_mae: 5.7382\n",
            "Epoch 93/150\n",
            "161/161 [==============================] - 1s 5ms/step - loss: 72.2773 - mae: 5.3944 - val_loss: 109.5712 - val_mae: 5.8732\n",
            "Epoch 94/150\n",
            "161/161 [==============================] - 1s 5ms/step - loss: 69.9880 - mae: 5.3385 - val_loss: 110.6610 - val_mae: 6.1271\n",
            "Epoch 95/150\n",
            "161/161 [==============================] - 1s 5ms/step - loss: 70.0360 - mae: 5.3131 - val_loss: 109.9503 - val_mae: 6.0649\n",
            "Epoch 96/150\n",
            "161/161 [==============================] - 1s 4ms/step - loss: 69.6805 - mae: 5.3045 - val_loss: 105.0447 - val_mae: 5.8478\n",
            "Epoch 97/150\n",
            "161/161 [==============================] - 1s 3ms/step - loss: 69.3229 - mae: 5.2907 - val_loss: 108.2408 - val_mae: 5.9658\n",
            "Epoch 98/150\n",
            "161/161 [==============================] - 1s 3ms/step - loss: 68.2721 - mae: 5.2665 - val_loss: 107.1365 - val_mae: 5.6953\n",
            "Epoch 99/150\n",
            "161/161 [==============================] - 0s 3ms/step - loss: 73.8188 - mae: 5.4071 - val_loss: 105.5385 - val_mae: 5.8076\n",
            "Epoch 100/150\n",
            "161/161 [==============================] - 0s 3ms/step - loss: 69.9443 - mae: 5.3306 - val_loss: 107.8827 - val_mae: 6.1309\n",
            "Epoch 101/150\n",
            "161/161 [==============================] - 0s 2ms/step - loss: 69.7525 - mae: 5.3375 - val_loss: 116.1280 - val_mae: 6.3572\n",
            "Epoch 102/150\n",
            "161/161 [==============================] - 0s 2ms/step - loss: 69.8011 - mae: 5.2491 - val_loss: 117.7141 - val_mae: 6.0920\n",
            "Epoch 103/150\n",
            "161/161 [==============================] - 0s 3ms/step - loss: 68.4062 - mae: 5.2727 - val_loss: 112.3070 - val_mae: 5.8104\n",
            "Epoch 104/150\n",
            "161/161 [==============================] - 0s 3ms/step - loss: 67.4556 - mae: 5.2348 - val_loss: 106.7721 - val_mae: 5.9317\n",
            "Epoch 105/150\n",
            "161/161 [==============================] - 0s 3ms/step - loss: 68.4102 - mae: 5.2737 - val_loss: 111.5143 - val_mae: 5.9242\n",
            "Epoch 106/150\n",
            "161/161 [==============================] - 0s 3ms/step - loss: 67.6857 - mae: 5.2492 - val_loss: 108.2505 - val_mae: 5.8926\n",
            "Epoch 107/150\n",
            "161/161 [==============================] - 0s 3ms/step - loss: 68.7699 - mae: 5.2552 - val_loss: 103.5594 - val_mae: 6.0038\n",
            "Epoch 108/150\n",
            "161/161 [==============================] - 0s 3ms/step - loss: 67.5750 - mae: 5.2490 - val_loss: 106.7339 - val_mae: 5.8042\n",
            "Epoch 109/150\n",
            "161/161 [==============================] - 0s 3ms/step - loss: 67.6731 - mae: 5.2271 - val_loss: 109.0626 - val_mae: 5.9510\n",
            "Epoch 110/150\n",
            "161/161 [==============================] - 0s 3ms/step - loss: 67.0571 - mae: 5.1968 - val_loss: 109.2562 - val_mae: 6.2214\n",
            "Epoch 111/150\n",
            "161/161 [==============================] - 0s 3ms/step - loss: 68.2873 - mae: 5.2889 - val_loss: 109.4680 - val_mae: 6.2493\n",
            "Epoch 112/150\n",
            "161/161 [==============================] - 1s 4ms/step - loss: 66.3513 - mae: 5.2349 - val_loss: 107.3200 - val_mae: 5.7591\n",
            "Epoch 113/150\n",
            "161/161 [==============================] - 1s 3ms/step - loss: 64.7944 - mae: 5.1308 - val_loss: 108.7791 - val_mae: 5.8256\n",
            "Epoch 114/150\n",
            "161/161 [==============================] - 1s 3ms/step - loss: 68.1615 - mae: 5.2478 - val_loss: 106.6964 - val_mae: 5.8078\n",
            "Epoch 115/150\n",
            "161/161 [==============================] - 0s 3ms/step - loss: 66.9130 - mae: 5.2308 - val_loss: 108.7216 - val_mae: 5.9329\n",
            "Epoch 116/150\n",
            "161/161 [==============================] - 0s 3ms/step - loss: 64.3992 - mae: 5.1506 - val_loss: 107.7730 - val_mae: 5.7242\n",
            "Epoch 117/150\n",
            "161/161 [==============================] - 0s 3ms/step - loss: 65.8627 - mae: 5.1838 - val_loss: 105.1178 - val_mae: 6.0435\n",
            "Epoch 118/150\n",
            "161/161 [==============================] - 1s 4ms/step - loss: 66.1200 - mae: 5.1819 - val_loss: 110.4286 - val_mae: 6.0057\n",
            "Epoch 119/150\n",
            "161/161 [==============================] - 1s 5ms/step - loss: 65.5264 - mae: 5.1695 - val_loss: 115.2875 - val_mae: 6.2594\n",
            "Epoch 120/150\n",
            "161/161 [==============================] - 1s 4ms/step - loss: 65.0767 - mae: 5.1554 - val_loss: 107.7383 - val_mae: 5.7413\n",
            "Epoch 121/150\n",
            "161/161 [==============================] - 1s 4ms/step - loss: 64.1509 - mae: 5.1100 - val_loss: 113.1524 - val_mae: 6.2815\n",
            "Epoch 122/150\n",
            "161/161 [==============================] - 1s 4ms/step - loss: 65.6830 - mae: 5.1639 - val_loss: 105.7224 - val_mae: 5.7809\n",
            "Epoch 123/150\n",
            "161/161 [==============================] - 1s 4ms/step - loss: 62.5025 - mae: 5.0801 - val_loss: 112.4608 - val_mae: 5.8502\n",
            "Epoch 124/150\n",
            "161/161 [==============================] - 0s 3ms/step - loss: 65.6665 - mae: 5.2100 - val_loss: 117.9812 - val_mae: 6.6846\n",
            "Epoch 125/150\n",
            "161/161 [==============================] - 0s 3ms/step - loss: 63.8233 - mae: 5.1310 - val_loss: 103.4911 - val_mae: 5.7132\n",
            "Epoch 126/150\n",
            "161/161 [==============================] - 0s 3ms/step - loss: 62.3770 - mae: 5.0490 - val_loss: 107.5924 - val_mae: 6.0081\n",
            "Epoch 127/150\n",
            "161/161 [==============================] - 0s 3ms/step - loss: 67.8712 - mae: 5.2550 - val_loss: 103.9885 - val_mae: 5.8625\n",
            "Epoch 128/150\n",
            "161/161 [==============================] - 0s 3ms/step - loss: 63.0161 - mae: 5.1112 - val_loss: 105.4523 - val_mae: 5.8543\n",
            "Epoch 129/150\n",
            "161/161 [==============================] - 0s 3ms/step - loss: 63.8153 - mae: 5.1145 - val_loss: 111.7941 - val_mae: 6.3158\n",
            "Epoch 130/150\n",
            "161/161 [==============================] - 0s 3ms/step - loss: 64.8242 - mae: 5.1381 - val_loss: 106.5970 - val_mae: 6.0871\n",
            "Epoch 131/150\n",
            "161/161 [==============================] - 1s 3ms/step - loss: 62.4256 - mae: 5.0957 - val_loss: 106.9077 - val_mae: 5.7018\n",
            "Epoch 132/150\n",
            "161/161 [==============================] - 0s 3ms/step - loss: 65.0807 - mae: 5.1471 - val_loss: 109.0662 - val_mae: 5.6977\n",
            "Epoch 133/150\n",
            "161/161 [==============================] - 0s 3ms/step - loss: 63.1042 - mae: 5.1286 - val_loss: 111.2758 - val_mae: 5.8262\n",
            "Epoch 134/150\n",
            "161/161 [==============================] - 0s 3ms/step - loss: 63.3540 - mae: 5.1009 - val_loss: 109.2443 - val_mae: 5.8178\n",
            "Epoch 135/150\n",
            "161/161 [==============================] - 0s 3ms/step - loss: 61.8668 - mae: 5.0510 - val_loss: 106.8126 - val_mae: 5.8096\n",
            "Epoch 136/150\n",
            "161/161 [==============================] - 1s 3ms/step - loss: 61.8158 - mae: 5.0865 - val_loss: 112.4299 - val_mae: 6.1875\n",
            "Epoch 137/150\n",
            "161/161 [==============================] - 1s 3ms/step - loss: 61.2326 - mae: 5.0509 - val_loss: 114.6500 - val_mae: 6.1545\n",
            "Epoch 138/150\n",
            "161/161 [==============================] - 0s 3ms/step - loss: 62.2376 - mae: 5.0560 - val_loss: 111.4627 - val_mae: 5.7854\n",
            "Epoch 139/150\n",
            "161/161 [==============================] - 0s 3ms/step - loss: 60.7643 - mae: 5.0150 - val_loss: 108.1355 - val_mae: 5.8138\n",
            "Epoch 140/150\n",
            "161/161 [==============================] - 0s 3ms/step - loss: 59.7461 - mae: 4.9990 - val_loss: 108.0203 - val_mae: 5.7969\n",
            "Epoch 141/150\n",
            "161/161 [==============================] - 0s 3ms/step - loss: 60.0499 - mae: 4.9903 - val_loss: 107.5834 - val_mae: 6.0803\n",
            "Epoch 142/150\n",
            "161/161 [==============================] - 0s 3ms/step - loss: 60.6601 - mae: 5.0362 - val_loss: 110.4003 - val_mae: 5.8891\n",
            "Epoch 143/150\n",
            "161/161 [==============================] - 0s 3ms/step - loss: 59.5203 - mae: 5.0016 - val_loss: 110.4101 - val_mae: 5.9677\n",
            "Epoch 144/150\n",
            "161/161 [==============================] - 1s 3ms/step - loss: 60.4556 - mae: 5.0088 - val_loss: 106.5085 - val_mae: 5.8095\n",
            "Epoch 145/150\n",
            "161/161 [==============================] - 1s 5ms/step - loss: 62.0452 - mae: 5.0489 - val_loss: 104.0872 - val_mae: 5.7882\n",
            "Epoch 146/150\n",
            "161/161 [==============================] - 1s 4ms/step - loss: 60.7359 - mae: 5.0298 - val_loss: 113.4775 - val_mae: 6.1400\n",
            "Epoch 147/150\n",
            "161/161 [==============================] - 1s 5ms/step - loss: 60.5546 - mae: 5.0005 - val_loss: 103.4468 - val_mae: 5.7760\n",
            "Epoch 148/150\n",
            "161/161 [==============================] - 1s 4ms/step - loss: 60.8061 - mae: 5.0084 - val_loss: 111.2456 - val_mae: 6.1860\n",
            "Epoch 149/150\n",
            "161/161 [==============================] - 1s 4ms/step - loss: 60.3482 - mae: 5.0159 - val_loss: 106.4715 - val_mae: 5.8875\n",
            "Epoch 150/150\n",
            "161/161 [==============================] - 1s 4ms/step - loss: 61.0064 - mae: 5.0355 - val_loss: 120.4419 - val_mae: 5.9733\n"
          ]
        }
      ],
      "source": [
        "history = model.fit(X_train,y_train,validation_split = 0.2, epochs = 150)"
      ]
    },
    {
      "cell_type": "code",
      "execution_count": null,
      "id": "f269e686",
      "metadata": {
        "id": "f269e686"
      },
      "outputs": [],
      "source": [
        "import matplotlib.pyplot as plt"
      ]
    },
    {
      "cell_type": "code",
      "execution_count": null,
      "id": "831380f2",
      "metadata": {
        "id": "831380f2",
        "colab": {
          "base_uri": "https://localhost:8080/",
          "height": 472
        },
        "outputId": "b59636fa-b530-45c9-9ff2-448147138ad6"
      },
      "outputs": [
        {
          "output_type": "display_data",
          "data": {
            "text/plain": [
              "<Figure size 640x480 with 1 Axes>"
            ],
            "image/png": "[encoded data removed]"
          },
          "metadata": {}
        }
      ],
      "source": [
        "loss = history.history['loss']\n",
        "val_loss = history.history['val_loss']\n",
        "epochs = range(1, len(loss)+1)\n",
        "plt.plot(epochs, loss, \"r\", label = \"Training Loss\" )\n",
        "plt.plot(epochs,val_loss, \"b\", label = \"Validation Loss\")\n",
        "plt.title(\"Training and Validation Loss\")\n",
        "plt.xlabel(\"Epochs\")\n",
        "plt.ylabel(\"Loss\")\n",
        "plt.legend()\n",
        "plt.show()"
      ]
    },
    {
      "cell_type": "code",
      "execution_count": null,
      "id": "c8db04a4",
      "metadata": {
        "colab": {
          "base_uri": "https://localhost:8080/"
        },
        "id": "c8db04a4",
        "outputId": "362eaf41-97c2-495e-c464-fb20b12888f2"
      },
      "outputs": [
        {
          "output_type": "stream",
          "name": "stdout",
          "text": [
            "1/1 [==============================] - 0s 120ms/step\n",
            "Predicted value are\n",
            " [[ 2.4146218]\n",
            " [ 3.1610703]\n",
            " [11.78513  ]\n",
            " [ 8.926812 ]\n",
            " [11.915329 ]\n",
            " [ 2.2544715]\n",
            " [ 4.1433434]\n",
            " [ 1.6098648]\n",
            " [15.4072075]\n",
            " [10.126351 ]]\n",
            "Real Value are\n",
            "       Price\n",
            "2310    7.0\n",
            "1509    5.0\n",
            "5457   12.0\n",
            "5740    8.0\n",
            "1156   14.0\n",
            "4359    4.5\n",
            "7039    4.5\n",
            "5613    0.9\n",
            "1057   15.0\n",
            "8136    3.0\n"
          ]
        }
      ],
      "source": [
        "predictions = model.predict(X_test[10:20])\n",
        "print(\"Predicted value are\\n\", predictions)\n",
        "print(\"Real Value are\\n\", y_test[10:20])"
      ]
    },
    {
      "cell_type": "code",
      "execution_count": null,
      "id": "9133c985",
      "metadata": {
        "id": "9133c985",
        "colab": {
          "base_uri": "https://localhost:8080/",
          "height": 300
        },
        "outputId": "29416c86-e6b7-4041-a196-ef9debf8b61d"
      },
      "outputs": [
        {
          "output_type": "execute_result",
          "data": {
            "text/plain": [
              "             Price\n",
              "count  6410.000000\n",
              "mean     14.978479\n",
              "std      19.422917\n",
              "min       0.050000\n",
              "25%       3.000000\n",
              "50%       8.000000\n",
              "75%      20.000000\n",
              "max     180.000000"
            ],
            "text/html": [
              "\n",
              "  <div id=\"df-8c53d53f-d5f9-4ccc-b444-9ebecb509fbb\" class=\"colab-df-container\">\n",
              "    <div>\n",
              "<style scoped>\n",
              "    .dataframe tbody tr th:only-of-type {\n",
              "        vertical-align: middle;\n",
              "    }\n",
              "\n",
              "    .dataframe tbody tr th {\n",
              "        vertical-align: top;\n",
              "    }\n",
              "\n",
              "    .dataframe thead th {\n",
              "        text-align: right;\n",
              "    }\n",
              "</style>\n",
              "<table border=\"1\" class=\"dataframe\">\n",
              "  <thead>\n",
              "    <tr style=\"text-align: right;\">\n",
              "      <th></th>\n",
              "      <th>Price</th>\n",
              "    </tr>\n",
              "  </thead>\n",
              "  <tbody>\n",
              "    <tr>\n",
              "      <th>count</th>\n",
              "      <td>6410.000000</td>\n",
              "    </tr>\n",
              "    <tr>\n",
              "      <th>mean</th>\n",
              "      <td>14.978479</td>\n",
              "    </tr>\n",
              "    <tr>\n",
              "      <th>std</th>\n",
              "      <td>19.422917</td>\n",
              "    </tr>\n",
              "    <tr>\n",
              "      <th>min</th>\n",
              "      <td>0.050000</td>\n",
              "    </tr>\n",
              "    <tr>\n",
              "      <th>25%</th>\n",
              "      <td>3.000000</td>\n",
              "    </tr>\n",
              "    <tr>\n",
              "      <th>50%</th>\n",
              "      <td>8.000000</td>\n",
              "    </tr>\n",
              "    <tr>\n",
              "      <th>75%</th>\n",
              "      <td>20.000000</td>\n",
              "    </tr>\n",
              "    <tr>\n",
              "      <th>max</th>\n",
              "      <td>180.000000</td>\n",
              "    </tr>\n",
              "  </tbody>\n",
              "</table>\n",
              "</div>\n",
              "    <div class=\"colab-df-buttons\">\n",
              "\n",
              "  <div class=\"colab-df-container\">\n",
              "    <button class=\"colab-df-convert\" onclick=\"convertToInteractive('df-8c53d53f-d5f9-4ccc-b444-9ebecb509fbb')\"\n",
              "            title=\"Convert this dataframe to an interactive table.\"\n",
              "            style=\"display:none;\">\n",
              "\n",
              "  <svg xmlns=\"http://www.w3.org/2000/svg\" height=\"24px\" viewBox=\"0 -960 960 960\">\n",
              "    <path d=\"M120-120v-720h720v720H120Zm60-500h600v-160H180v160Zm220 220h160v-160H400v160Zm0 220h160v-160H400v160ZM180-400h160v-160H180v160Zm440 0h160v-160H620v160ZM180-180h160v-160H180v160Zm440 0h160v-160H620v160Z\"/>\n",
              "  </svg>\n",
              "    </button>\n",
              "\n",
              "  <style>\n",
              "    .colab-df-container {\n",
              "      display:flex;\n",
              "      gap: 12px;\n",
              "    }\n",
              "\n",
              "    .colab-df-convert {\n",
              "      background-color: #E8F0FE;\n",
              "      border: none;\n",
              "      border-radius: 50%;\n",
              "      cursor: pointer;\n",
              "      display: none;\n",
              "      fill: #1967D2;\n",
              "      height: 32px;\n",
              "      padding: 0 0 0 0;\n",
              "      width: 32px;\n",
              "    }\n",
              "\n",
              "    .colab-df-convert:hover {\n",
              "      background-color: #E2EBFA;\n",
              "      box-shadow: 0px 1px 2px rgba(60, 64, 67, 0.3), 0px 1px 3px 1px rgba(60, 64, 67, 0.15);\n",
              "      fill: #174EA6;\n",
              "    }\n",
              "\n",
              "    .colab-df-buttons div {\n",
              "      margin-bottom: 4px;\n",
              "    }\n",
              "\n",
              "    [theme=dark] .colab-df-convert {\n",
              "      background-color: #3B4455;\n",
              "      fill: #D2E3FC;\n",
              "    }\n",
              "\n",
              "    [theme=dark] .colab-df-convert:hover {\n",
              "      background-color: #434B5C;\n",
              "      box-shadow: 0px 1px 3px 1px rgba(0, 0, 0, 0.15);\n",
              "      filter: drop-shadow(0px 1px 2px rgba(0, 0, 0, 0.3));\n",
              "      fill: #FFFFFF;\n",
              "    }\n",
              "  </style>\n",
              "\n",
              "    <script>\n",
              "      const buttonEl =\n",
              "        document.querySelector('#df-8c53d53f-d5f9-4ccc-b444-9ebecb509fbb button.colab-df-convert');\n",
              "      buttonEl.style.display =\n",
              "        google.colab.kernel.accessAllowed ? 'block' : 'none';\n",
              "\n",
              "      async function convertToInteractive(key) {\n",
              "        const element = document.querySelector('#df-8c53d53f-d5f9-4ccc-b444-9ebecb509fbb');\n",
              "        const dataTable =\n",
              "          await google.colab.kernel.invokeFunction('convertToInteractive',\n",
              "                                                    [key], {});\n",
              "        if (!dataTable) return;\n",
              "\n",
              "        const docLinkHtml = 'Like what you see? Visit the ' +\n",
              "          '<a target=\"_blank\" href=https://colab.research.google.com/notebooks/data_table.ipynb>data table notebook</a>'\n",
              "          + ' to learn more about interactive tables.';\n",
              "        element.innerHTML = '';\n",
              "        dataTable['output_type'] = 'display_data';\n",
              "        await google.colab.output.renderOutput(dataTable, element);\n",
              "        const docLink = document.createElement('div');\n",
              "        docLink.innerHTML = docLinkHtml;\n",
              "        element.appendChild(docLink);\n",
              "      }\n",
              "    </script>\n",
              "  </div>\n",
              "\n",
              "\n",
              "<div id=\"df-2651d874-3cd6-429e-ac3b-f45bd6265be8\">\n",
              "  <button class=\"colab-df-quickchart\" onclick=\"quickchart('df-2651d874-3cd6-429e-ac3b-f45bd6265be8')\"\n",
              "            title=\"Suggest charts\"\n",
              "            style=\"display:none;\">\n",
              "\n",
              "<svg xmlns=\"http://www.w3.org/2000/svg\" height=\"24px\"viewBox=\"0 0 24 24\"\n",
              "     width=\"24px\">\n",
              "    <g>\n",
              "        <path d=\"M19 3H5c-1.1 0-2 .9-2 2v14c0 1.1.9 2 2 2h14c1.1 0 2-.9 2-2V5c0-1.1-.9-2-2-2zM9 17H7v-7h2v7zm4 0h-2V7h2v10zm4 0h-2v-4h2v4z\"/>\n",
              "    </g>\n",
              "</svg>\n",
              "  </button>\n",
              "\n",
              "<style>\n",
              "  .colab-df-quickchart {\n",
              "      --bg-color: #E8F0FE;\n",
              "      --fill-color: #1967D2;\n",
              "      --hover-bg-color: #E2EBFA;\n",
              "      --hover-fill-color: #174EA6;\n",
              "      --disabled-fill-color: #AAA;\n",
              "      --disabled-bg-color: #DDD;\n",
              "  }\n",
              "\n",
              "  [theme=dark] .colab-df-quickchart {\n",
              "      --bg-color: #3B4455;\n",
              "      --fill-color: #D2E3FC;\n",
              "      --hover-bg-color: #434B5C;\n",
              "      --hover-fill-color: #FFFFFF;\n",
              "      --disabled-bg-color: #3B4455;\n",
              "      --disabled-fill-color: #666;\n",
              "  }\n",
              "\n",
              "  .colab-df-quickchart {\n",
              "    background-color: var(--bg-color);\n",
              "    border: none;\n",
              "    border-radius: 50%;\n",
              "    cursor: pointer;\n",
              "    display: none;\n",
              "    fill: var(--fill-color);\n",
              "    height: 32px;\n",
              "    padding: 0;\n",
              "    width: 32px;\n",
              "  }\n",
              "\n",
              "  .colab-df-quickchart:hover {\n",
              "    background-color: var(--hover-bg-color);\n",
              "    box-shadow: 0 1px 2px rgba(60, 64, 67, 0.3), 0 1px 3px 1px rgba(60, 64, 67, 0.15);\n",
              "    fill: var(--button-hover-fill-color);\n",
              "  }\n",
              "\n",
              "  .colab-df-quickchart-complete:disabled,\n",
              "  .colab-df-quickchart-complete:disabled:hover {\n",
              "    background-color: var(--disabled-bg-color);\n",
              "    fill: var(--disabled-fill-color);\n",
              "    box-shadow: none;\n",
              "  }\n",
              "\n",
              "  .colab-df-spinner {\n",
              "    border: 2px solid var(--fill-color);\n",
              "    border-color: transparent;\n",
              "    border-bottom-color: var(--fill-color);\n",
              "    animation:\n",
              "      spin 1s steps(1) infinite;\n",
              "  }\n",
              "\n",
              "  @keyframes spin {\n",
              "    0% {\n",
              "      border-color: transparent;\n",
              "      border-bottom-color: var(--fill-color);\n",
              "      border-left-color: var(--fill-color);\n",
              "    }\n",
              "    20% {\n",
              "      border-color: transparent;\n",
              "      border-left-color: var(--fill-color);\n",
              "      border-top-color: var(--fill-color);\n",
              "    }\n",
              "    30% {\n",
              "      border-color: transparent;\n",
              "      border-left-color: var(--fill-color);\n",
              "      border-top-color: var(--fill-color);\n",
              "      border-right-color: var(--fill-color);\n",
              "    }\n",
              "    40% {\n",
              "      border-color: transparent;\n",
              "      border-right-color: var(--fill-color);\n",
              "      border-top-color: var(--fill-color);\n",
              "    }\n",
              "    60% {\n",
              "      border-color: transparent;\n",
              "      border-right-color: var(--fill-color);\n",
              "    }\n",
              "    80% {\n",
              "      border-color: transparent;\n",
              "      border-right-color: var(--fill-color);\n",
              "      border-bottom-color: var(--fill-color);\n",
              "    }\n",
              "    90% {\n",
              "      border-color: transparent;\n",
              "      border-bottom-color: var(--fill-color);\n",
              "    }\n",
              "  }\n",
              "</style>\n",
              "\n",
              "  <script>\n",
              "    async function quickchart(key) {\n",
              "      const quickchartButtonEl =\n",
              "        document.querySelector('#' + key + ' button');\n",
              "      quickchartButtonEl.disabled = true;  // To prevent multiple clicks.\n",
              "      quickchartButtonEl.classList.add('colab-df-spinner');\n",
              "      try {\n",
              "        const charts = await google.colab.kernel.invokeFunction(\n",
              "            'suggestCharts', [key], {});\n",
              "      } catch (error) {\n",
              "        console.error('Error during call to suggestCharts:', error);\n",
              "      }\n",
              "      quickchartButtonEl.classList.remove('colab-df-spinner');\n",
              "      quickchartButtonEl.classList.add('colab-df-quickchart-complete');\n",
              "    }\n",
              "    (() => {\n",
              "      let quickchartButtonEl =\n",
              "        document.querySelector('#df-2651d874-3cd6-429e-ac3b-f45bd6265be8 button');\n",
              "      quickchartButtonEl.style.display =\n",
              "        google.colab.kernel.accessAllowed ? 'block' : 'none';\n",
              "    })();\n",
              "  </script>\n",
              "</div>\n",
              "    </div>\n",
              "  </div>\n"
            ],
            "application/vnd.google.colaboratory.intrinsic+json": {
              "type": "dataframe",
              "summary": "{\n  \"name\": \"y_train\",\n  \"rows\": 8,\n  \"fields\": [\n    {\n      \"column\": \"Price\",\n      \"properties\": {\n        \"dtype\": \"number\",\n        \"std\": 2254.6680289732676,\n        \"min\": 0.05,\n        \"max\": 6410.0,\n        \"num_unique_values\": 8,\n        \"samples\": [\n          14.978478939157567,\n          8.0,\n          6410.0\n        ],\n        \"semantic_type\": \"\",\n        \"description\": \"\"\n      }\n    }\n  ]\n}"
            }
          },
          "metadata": {},
          "execution_count": 21
        }
      ],
      "source": [
        "y_train.describe()"
      ]
    },
    {
      "cell_type": "code",
      "execution_count": null,
      "id": "82d6eaa7",
      "metadata": {
        "id": "82d6eaa7",
        "colab": {
          "base_uri": "https://localhost:8080/"
        },
        "outputId": "960ee0a6-fb92-4367-c255-326728f780d7"
      },
      "outputs": [
        {
          "output_type": "stream",
          "name": "stdout",
          "text": [
            "86/86 [==============================] - 0s 2ms/step\n"
          ]
        }
      ],
      "source": [
        "predictions = model.predict(X_test)"
      ]
    },
    {
      "cell_type": "code",
      "execution_count": null,
      "id": "a1f90300",
      "metadata": {
        "id": "a1f90300"
      },
      "outputs": [],
      "source": [
        "from sklearn.metrics import mean_squared_error,mean_absolute_error,explained_variance_score\n",
        "from sklearn.metrics import classification_report,confusion_matrix"
      ]
    },
    {
      "cell_type": "code",
      "execution_count": null,
      "id": "8515b3a1",
      "metadata": {
        "id": "8515b3a1",
        "colab": {
          "base_uri": "https://localhost:8080/"
        },
        "outputId": "02dd180a-3e07-4490-a1c9-d30df3e60a8d"
      },
      "outputs": [
        {
          "output_type": "execute_result",
          "data": {
            "text/plain": [
              "0.718886430127544"
            ]
          },
          "metadata": {},
          "execution_count": 24
        }
      ],
      "source": [
        "explained_variance_score(y_test,predictions)"
      ]
    },
    {
      "cell_type": "code",
      "execution_count": null,
      "id": "7f417b44",
      "metadata": {
        "id": "7f417b44"
      },
      "outputs": [],
      "source": [
        "from sklearn.metrics import r2_score,mean_squared_error,mean_absolute_error"
      ]
    },
    {
      "cell_type": "code",
      "execution_count": null,
      "id": "18c3c759",
      "metadata": {
        "id": "18c3c759",
        "colab": {
          "base_uri": "https://localhost:8080/"
        },
        "outputId": "9534df0d-ef30-4d43-d2fa-339120b24547"
      },
      "outputs": [
        {
          "output_type": "execute_result",
          "data": {
            "text/plain": [
              "0.5735651445642811"
            ]
          },
          "metadata": {},
          "execution_count": 26
        }
      ],
      "source": [
        "r2_score(predictions,y_test)"
      ]
    },
    {
      "cell_type": "code",
      "execution_count": null,
      "id": "726608ae",
      "metadata": {
        "id": "726608ae",
        "colab": {
          "base_uri": "https://localhost:8080/"
        },
        "outputId": "c9553cbc-4c64-4b34-9102-9a71968da8cd"
      },
      "outputs": [
        {
          "output_type": "execute_result",
          "data": {
            "text/plain": [
              "10.252520060005322"
            ]
          },
          "metadata": {},
          "execution_count": 27
        }
      ],
      "source": [
        "import numpy as np\n",
        "np.sqrt(mean_squared_error(y_test,predictions))"
      ]
    },
    {
      "cell_type": "code",
      "execution_count": null,
      "id": "0ac94245",
      "metadata": {
        "id": "0ac94245",
        "colab": {
          "base_uri": "https://localhost:8080/"
        },
        "outputId": "5ea10f7a-b292-4bd7-90e1-c645eb0a9ed0"
      },
      "outputs": [
        {
          "output_type": "execute_result",
          "data": {
            "text/plain": [
              "5.828104327252512"
            ]
          },
          "metadata": {},
          "execution_count": 28
        }
      ],
      "source": [
        "mean_absolute_error(y_test,predictions)"
      ]
    },
    {
      "cell_type": "markdown",
      "id": "b0ad5522",
      "metadata": {
        "id": "b0ad5522"
      },
      "source": [
        "### Prediction for median 25, 50, and 75 value"
      ]
    },
    {
      "cell_type": "markdown",
      "id": "636c1275",
      "metadata": {
        "id": "636c1275"
      },
      "source": [
        "#### 25"
      ]
    },
    {
      "cell_type": "code",
      "execution_count": null,
      "id": "0a1b9c1f",
      "metadata": {
        "id": "0a1b9c1f",
        "colab": {
          "base_uri": "https://localhost:8080/"
        },
        "outputId": "6d21fcf2-a02c-4a35-d8c4-8dc584e99983"
      },
      "outputs": [
        {
          "output_type": "stream",
          "name": "stdout",
          "text": [
            "1/1 [==============================] - 0s 23ms/step\n",
            "Predicted value are\n",
            " [[7.453823 ]\n",
            " [9.304052 ]\n",
            " [2.8945475]\n",
            " [2.9812617]\n",
            " [1.4759008]\n",
            " [1.7488348]\n",
            " [1.757152 ]\n",
            " [2.8346577]\n",
            " [4.802861 ]\n",
            " [2.13545  ]]\n",
            "Real Value are\n",
            "       Price\n",
            "8917    3.0\n",
            "93      2.5\n",
            "3787    2.8\n",
            "8127    2.0\n",
            "6255    1.0\n",
            "4296    1.5\n",
            "1046    3.0\n",
            "7700    2.5\n",
            "6253    2.5\n",
            "7759    2.0\n"
          ]
        }
      ],
      "source": [
        "predictions25 = model.predict(X_test_25[10:20])\n",
        "print(\"Predicted value are\\n\", predictions25)\n",
        "print(\"Real Value are\\n\", y_test_25[10:20])"
      ]
    },
    {
      "cell_type": "code",
      "execution_count": null,
      "id": "823a073f",
      "metadata": {
        "id": "823a073f",
        "colab": {
          "base_uri": "https://localhost:8080/"
        },
        "outputId": "f442460c-52bd-4a30-dbc2-97b019c81fcf"
      },
      "outputs": [
        {
          "output_type": "stream",
          "name": "stdout",
          "text": [
            "23/23 [==============================] - 0s 2ms/step\n"
          ]
        }
      ],
      "source": [
        "predictions25 = model.predict(X_test_25)"
      ]
    },
    {
      "cell_type": "code",
      "execution_count": null,
      "id": "69985a2e",
      "metadata": {
        "id": "69985a2e",
        "colab": {
          "base_uri": "https://localhost:8080/"
        },
        "outputId": "47bfcc5a-82e5-4fff-833e-249d3cf15527"
      },
      "outputs": [
        {
          "output_type": "execute_result",
          "data": {
            "text/plain": [
              "1.6613736109813277"
            ]
          },
          "metadata": {},
          "execution_count": 31
        }
      ],
      "source": [
        "mean_absolute_error(y_test_25,predictions25)"
      ]
    },
    {
      "cell_type": "markdown",
      "id": "3112092d",
      "metadata": {
        "id": "3112092d"
      },
      "source": [
        "#### 50"
      ]
    },
    {
      "cell_type": "code",
      "execution_count": null,
      "id": "73d6fe63",
      "metadata": {
        "colab": {
          "base_uri": "https://localhost:8080/"
        },
        "id": "73d6fe63",
        "outputId": "d46c08ed-ff64-47c9-f8cc-f9a1deee7cec"
      },
      "outputs": [
        {
          "output_type": "stream",
          "name": "stdout",
          "text": [
            "1/1 [==============================] - 0s 27ms/step\n",
            "Predicted value are\n",
            " [[ 2.126702 ]\n",
            " [11.08124  ]\n",
            " [ 8.148296 ]\n",
            " [ 2.6357262]\n",
            " [ 6.381841 ]\n",
            " [ 7.8820558]\n",
            " [ 3.1920624]\n",
            " [20.492907 ]\n",
            " [ 8.19494  ]\n",
            " [ 4.4408765]]\n",
            "Real Value are\n",
            "       Price\n",
            "1010    3.5\n",
            "6231    8.0\n",
            "3872    4.5\n",
            "2484    3.2\n",
            "1671    8.0\n",
            "4421    6.0\n",
            "3418    5.5\n",
            "4561    6.0\n",
            "47      5.0\n",
            "4317    7.0\n"
          ]
        }
      ],
      "source": [
        "predictions50 = model.predict(X_test_50[10:20])\n",
        "print(\"Predicted value are\\n\", predictions50)\n",
        "print(\"Real Value are\\n\", y_test_50[10:20])"
      ]
    },
    {
      "cell_type": "code",
      "execution_count": null,
      "id": "812d571f",
      "metadata": {
        "id": "812d571f",
        "colab": {
          "base_uri": "https://localhost:8080/"
        },
        "outputId": "f5502ffe-9dae-4aed-824d-756115a1d4df"
      },
      "outputs": [
        {
          "output_type": "stream",
          "name": "stdout",
          "text": [
            "23/23 [==============================] - 0s 1ms/step\n"
          ]
        }
      ],
      "source": [
        "predictions50 = model.predict(X_test_50)"
      ]
    },
    {
      "cell_type": "code",
      "execution_count": null,
      "id": "b4f02140",
      "metadata": {
        "id": "b4f02140",
        "colab": {
          "base_uri": "https://localhost:8080/"
        },
        "outputId": "42bf8cf4-b58f-4387-93d6-62e4c0e08dda"
      },
      "outputs": [
        {
          "output_type": "execute_result",
          "data": {
            "text/plain": [
              "2.546647247534032"
            ]
          },
          "metadata": {},
          "execution_count": 34
        }
      ],
      "source": [
        "mean_absolute_error(y_test_50,predictions50)"
      ]
    },
    {
      "cell_type": "markdown",
      "id": "78c390d4",
      "metadata": {
        "id": "78c390d4"
      },
      "source": [
        "#### 75"
      ]
    },
    {
      "cell_type": "code",
      "execution_count": null,
      "id": "a4486fc0",
      "metadata": {
        "id": "a4486fc0",
        "colab": {
          "base_uri": "https://localhost:8080/"
        },
        "outputId": "a85d3fd5-309f-43d7-85d8-5b6dcca196ae"
      },
      "outputs": [
        {
          "output_type": "stream",
          "name": "stdout",
          "text": [
            "1/1 [==============================] - 0s 31ms/step\n",
            "Predicted value are\n",
            " [[16.616917 ]\n",
            " [11.355995 ]\n",
            " [10.155422 ]\n",
            " [13.664446 ]\n",
            " [ 9.504169 ]\n",
            " [22.15193  ]\n",
            " [41.395103 ]\n",
            " [14.506882 ]\n",
            " [26.034927 ]\n",
            " [ 4.7267923]]\n",
            "Real Value are\n",
            "       Price\n",
            "2926    9.5\n",
            "1314   10.0\n",
            "7111   12.0\n",
            "315     9.0\n",
            "5527   15.0\n",
            "2683   20.0\n",
            "8713   12.0\n",
            "1739   18.0\n",
            "3181   14.5\n",
            "6968    9.0\n"
          ]
        }
      ],
      "source": [
        "predictions75 = model.predict(X_test_75[10:20])\n",
        "print(\"Predicted value are\\n\", predictions75)\n",
        "print(\"Real Value are\\n\", y_test_75[10:20])"
      ]
    },
    {
      "cell_type": "code",
      "execution_count": null,
      "id": "a7d9ae48",
      "metadata": {
        "id": "a7d9ae48",
        "colab": {
          "base_uri": "https://localhost:8080/"
        },
        "outputId": "ad14fdb0-8923-41d4-8d2f-26105b6e1c62"
      },
      "outputs": [
        {
          "output_type": "stream",
          "name": "stdout",
          "text": [
            "23/23 [==============================] - 0s 2ms/step\n"
          ]
        }
      ],
      "source": [
        "predictions75 = model.predict(X_test_75)"
      ]
    },
    {
      "cell_type": "code",
      "execution_count": null,
      "id": "e5848f67",
      "metadata": {
        "id": "e5848f67",
        "colab": {
          "base_uri": "https://localhost:8080/"
        },
        "outputId": "75c94c1a-f458-4d18-eca2-f2ea479822fd"
      },
      "outputs": [
        {
          "output_type": "execute_result",
          "data": {
            "text/plain": [
              "5.596317419019239"
            ]
          },
          "metadata": {},
          "execution_count": 37
        }
      ],
      "source": [
        "mean_absolute_error(y_test_75,predictions75)"
      ]
    },
    {
      "cell_type": "markdown",
      "id": "95733815",
      "metadata": {
        "id": "95733815"
      },
      "source": [
        "#### 100"
      ]
    },
    {
      "cell_type": "code",
      "execution_count": null,
      "id": "74ec0f1b",
      "metadata": {
        "id": "74ec0f1b",
        "colab": {
          "base_uri": "https://localhost:8080/"
        },
        "outputId": "dd252a6d-189d-48a2-f951-c5e2ff7f46e8"
      },
      "outputs": [
        {
          "output_type": "stream",
          "name": "stdout",
          "text": [
            "1/1 [==============================] - 0s 26ms/step\n",
            "Predicted value are [[ 11.817539]\n",
            " [100.0451  ]\n",
            " [ 17.90664 ]\n",
            " [ 21.281652]\n",
            " [ 23.652628]\n",
            " [ 45.128975]\n",
            " [ 24.553123]\n",
            " [ 13.157909]\n",
            " [ 15.058983]\n",
            " [ 27.865147]]\n",
            "Real Value are       Price\n",
            "3131   24.0\n",
            "5920   90.0\n",
            "3799   25.0\n",
            "6781   32.0\n",
            "7341   35.0\n",
            "5197   35.0\n",
            "3498   40.0\n",
            "2865   25.5\n",
            "4696   23.0\n",
            "8840   55.0\n"
          ]
        }
      ],
      "source": [
        "predictions100 = model.predict(X_test_100[10:20])\n",
        "print(\"Predicted value are\", predictions100)\n",
        "print(\"Real Value are\", y_test_100[10:20])"
      ]
    },
    {
      "cell_type": "code",
      "execution_count": null,
      "id": "9dbc55ff",
      "metadata": {
        "id": "9dbc55ff",
        "colab": {
          "base_uri": "https://localhost:8080/"
        },
        "outputId": "504f6840-bf55-4c9b-b926-ae0a99fe66c1"
      },
      "outputs": [
        {
          "output_type": "stream",
          "name": "stdout",
          "text": [
            "18/18 [==============================] - 0s 2ms/step\n"
          ]
        }
      ],
      "source": [
        "predictions_100 = model.predict(X_test_100)"
      ]
    },
    {
      "cell_type": "code",
      "execution_count": null,
      "id": "e8e60058",
      "metadata": {
        "id": "e8e60058",
        "colab": {
          "base_uri": "https://localhost:8080/"
        },
        "outputId": "98fa7095-8830-4485-c146-4c10aa78d209"
      },
      "outputs": [
        {
          "output_type": "execute_result",
          "data": {
            "text/plain": [
              "15.580026461238827"
            ]
          },
          "metadata": {},
          "execution_count": 40
        }
      ],
      "source": [
        "mean_absolute_error(y_test_100,predictions_100)"
      ]
    },
    {
      "cell_type": "markdown",
      "id": "f9dec9a6",
      "metadata": {
        "id": "f9dec9a6"
      },
      "source": [
        "### Check the attributes importance"
      ]
    },
    {
      "cell_type": "code",
      "execution_count": null,
      "id": "9b1a0ef7",
      "metadata": {
        "id": "9b1a0ef7"
      },
      "outputs": [],
      "source": [
        "from collections import defaultdict\n",
        "from sklearn.metrics import mean_squared_error"
      ]
    },
    {
      "cell_type": "code",
      "execution_count": null,
      "id": "8ad0e872",
      "metadata": {
        "id": "8ad0e872"
      },
      "outputs": [],
      "source": [
        "# def permutation_importance(model, X, y, metric, n_iterations=10):\n",
        "#     baseline_score = metric(y, model.predict(X))\n",
        "#     importance_scores = defaultdict(list)\n",
        "\n",
        "#     for feature_index in range(X.shape[1]):\n",
        "#         X_permuted = X.copy()\n",
        "#         X_permuted[:, feature_index] = np.random.permutation(X_permuted[:, feature_index])\n",
        "\n",
        "#         for _ in range(n_iterations):\n",
        "#             score = metric(y, model.predict(X_permuted))\n",
        "#             importance = baseline_score - score\n",
        "#             importance_scores[feature_index].append(importance)\n",
        "\n",
        "#     return {feature_index: np.mean(scores) for feature_index, scores in importance_scores.items()}"
      ]
    },
    {
      "cell_type": "code",
      "execution_count": null,
      "id": "ca5f2164",
      "metadata": {
        "id": "ca5f2164"
      },
      "outputs": [],
      "source": [
        "# importance_scores = permutation_importance(model, X_test, y_test, mean_squared_error)"
      ]
    },
    {
      "cell_type": "code",
      "execution_count": null,
      "id": "3d58f827",
      "metadata": {
        "id": "3d58f827"
      },
      "outputs": [],
      "source": [
        "# print(\"\\nFeature Importance Scores:\")\n",
        "# for feature_index, importance_score in importance_scores.items():\n",
        "#     print(f\"Feature {feature_index}: {importance_score}\")"
      ]
    },
    {
      "cell_type": "code",
      "execution_count": null,
      "id": "4d1ddbed",
      "metadata": {
        "id": "4d1ddbed"
      },
      "outputs": [],
      "source": [
        "import tensorflow as tf\n",
        "def calculate_feature_importance(model, X):\n",
        "    with tf.GradientTape() as tape:\n",
        "        tape.watch(X)\n",
        "        predictions = model(X)\n",
        "\n",
        "    gradients = tape.gradient(predictions, X)\n",
        "    feature_importance = tf.reduce_mean(gradients, axis=0)\n",
        "    return feature_importance.numpy()"
      ]
    },
    {
      "cell_type": "code",
      "execution_count": null,
      "id": "776af7dc",
      "metadata": {
        "id": "776af7dc",
        "colab": {
          "base_uri": "https://localhost:8080/"
        },
        "outputId": "9bac317a-4562-403e-e232-43e4ab9127f0"
      },
      "outputs": [
        {
          "output_type": "stream",
          "name": "stdout",
          "text": [
            "Feature Importance: [ 0.56197315  1.2699883  -0.36923775  2.035034    1.3855757  -0.11237872\n",
            " -1.4187803   1.622949    0.79363596 -0.4712498   0.08712052 -0.9157631\n",
            "  1.460393    0.06475186  0.38406008 -0.9254891  -0.2212498  -0.15829678\n",
            "  0.6923598   1.405144    0.43867838  0.6269636  -0.16802776 -1.4724411\n",
            "  2.1752758   0.20091254  0.02847508  0.59794194  0.3688287  -0.8451482\n",
            " -3.5583348   8.010743   -0.24791348 -1.047564   -1.7592567  -2.970791\n",
            "  0.01202077  0.1587981  -0.69681585  0.19251287 -0.30485404]\n"
          ]
        }
      ],
      "source": [
        "# sample_index = 0\n",
        "importance = calculate_feature_importance(model,tf.convert_to_tensor(X_train[10:11].values, dtype=tf.float32))\n",
        "print(\"Feature Importance:\", importance)"
      ]
    },
    {
      "cell_type": "markdown",
      "id": "ab5aede9",
      "metadata": {
        "id": "ab5aede9"
      },
      "source": [
        "### Check the attribute with the most significant importance to the neural network"
      ]
    },
    {
      "cell_type": "code",
      "execution_count": null,
      "id": "af753192",
      "metadata": {
        "id": "af753192",
        "colab": {
          "base_uri": "https://localhost:8080/"
        },
        "outputId": "81db3876-dd3d-4dbf-9969-a1fe76754beb"
      },
      "outputs": [
        {
          "output_type": "execute_result",
          "data": {
            "text/plain": [
              "30"
            ]
          },
          "metadata": {},
          "execution_count": 47
        }
      ],
      "source": [
        "min_index = np.argmin((importance))\n",
        "min_index"
      ]
    },
    {
      "cell_type": "code",
      "execution_count": null,
      "id": "a9b4fd49",
      "metadata": {
        "id": "a9b4fd49",
        "colab": {
          "base_uri": "https://localhost:8080/"
        },
        "outputId": "b5f40ffc-5242-4f5c-da9c-0cf8e127b436"
      },
      "outputs": [
        {
          "output_type": "execute_result",
          "data": {
            "text/plain": [
              "31"
            ]
          },
          "metadata": {},
          "execution_count": 48
        }
      ],
      "source": [
        "max_index = np.argmax((importance))\n",
        "max_index"
      ]
    },
    {
      "cell_type": "code",
      "execution_count": null,
      "id": "5a458356",
      "metadata": {
        "id": "5a458356",
        "colab": {
          "base_uri": "https://localhost:8080/"
        },
        "outputId": "c989ee43-7167-4cb3-bc24-72254e73cfcc"
      },
      "outputs": [
        {
          "output_type": "execute_result",
          "data": {
            "text/plain": [
              "8.010743"
            ]
          },
          "metadata": {},
          "execution_count": 49
        }
      ],
      "source": [
        "importance[max_index]"
      ]
    },
    {
      "cell_type": "code",
      "execution_count": null,
      "id": "22a074de",
      "metadata": {
        "colab": {
          "base_uri": "https://localhost:8080/",
          "height": 36
        },
        "id": "22a074de",
        "outputId": "e30401c9-a75f-4141-bee8-a3ec6d2e8a38"
      },
      "outputs": [
        {
          "output_type": "execute_result",
          "data": {
            "text/plain": [
              "'Compe_Ligue 1'"
            ],
            "application/vnd.google.colaboratory.intrinsic+json": {
              "type": "string"
            }
          },
          "metadata": {},
          "execution_count": 50
        }
      ],
      "source": [
        "footballer_input.columns[min_index]"
      ]
    },
    {
      "cell_type": "code",
      "execution_count": null,
      "id": "ac4a239f",
      "metadata": {
        "colab": {
          "base_uri": "https://localhost:8080/",
          "height": 36
        },
        "id": "ac4a239f",
        "outputId": "8624e952-3a70-400a-c256-22ff0ffa3bb9"
      },
      "outputs": [
        {
          "output_type": "execute_result",
          "data": {
            "text/plain": [
              "'Compe_Premier League'"
            ],
            "application/vnd.google.colaboratory.intrinsic+json": {
              "type": "string"
            }
          },
          "metadata": {},
          "execution_count": 51
        }
      ],
      "source": [
        "footballer_input.columns[max_index]"
      ]
    }
  ],
  "metadata": {
    "colab": {
      "provenance": []
    },
    "kernelspec": {
      "display_name": "Python 3 (ipykernel)",
      "language": "python",
      "name": "python3"
    },
    "language_info": {
      "codemirror_mode": {
        "name": "ipython",
        "version": 3
      },
      "file_extension": ".py",
      "mimetype": "text/x-python",
      "name": "python",
      "nbconvert_exporter": "python",
      "pygments_lexer": "ipython3",
      "version": "3.9.7"
    }
  },
  "nbformat": 4,
  "nbformat_minor": 5
}